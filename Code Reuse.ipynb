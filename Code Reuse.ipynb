{
 "cells": [
  {
   "cell_type": "code",
   "execution_count": 6,
   "id": "68150c57",
   "metadata": {},
   "outputs": [],
   "source": [
    "import random"
   ]
  },
  {
   "cell_type": "code",
   "execution_count": 7,
   "id": "83e5b61a",
   "metadata": {},
   "outputs": [
    {
     "name": "stdout",
     "output_type": "stream",
     "text": [
      "10.680171834224623\n"
     ]
    }
   ],
   "source": [
    "#Begin portion\n",
    "class Server():\n",
    "    def __init__(self):\n",
    "        '''Creates a new server Instance, with no active connections'''\n",
    "        self.connections = {}\n",
    "        \n",
    "    def add_connections(self, connections_id):\n",
    "        '''Adds a new connection to this server'''\n",
    "        connection_load = random.random()*10+1\n",
    "        #Add the connection to the dictionary with the calculated load\n",
    "        self.connections[connection_load] = connection_load\n",
    "        \n",
    "    def close_connect(self, connections_id):\n",
    "        '''Closes a connection on this server'''\n",
    "        # remove the connection form the dictionary\n",
    "        if connections_id in self.connections:\n",
    "            del self.connections[connections_id]\n",
    "            \n",
    "    def load(self):\n",
    "        '''Calculates the current load for all connections'''\n",
    "        total = 0\n",
    "        #add up the load for each of the connections\n",
    "        for load in self.connections.values():\n",
    "            total += load\n",
    "        return total\n",
    "    def __str__(self):\n",
    "        '''Returns a string with the current load of the server'''\n",
    "        return \"{:.2f}%\".format(self.load())\n",
    "\n",
    "    \n",
    "server = Server()\n",
    "server.add_connections(\"192.168.1.1\")\n",
    "print(server.load())"
   ]
  },
  {
   "cell_type": "code",
   "execution_count": 9,
   "id": "12c19c2b",
   "metadata": {},
   "outputs": [
    {
     "name": "stdout",
     "output_type": "stream",
     "text": [
      "10.680171834224623\n"
     ]
    }
   ],
   "source": [
    "server.close_connect(\"192.168.1.1\")\n",
    "print(server.load())"
   ]
  },
  {
   "cell_type": "code",
   "execution_count": 15,
   "id": "081fb9b9",
   "metadata": {},
   "outputs": [],
   "source": [
    "#Begin Portion 2#\n",
    "\n",
    "class LoadBalancing:\n",
    "    def __init__(self):\n",
    "        \"\"\"Initialize the load balancing system with one server\"\"\"\n",
    "        self.connections = {}\n",
    "        self.servers = [Server()]\n",
    "\n",
    "    def add_connections(self, connection_id):\n",
    "        \"\"\"Randomly selects a server and adds a connection to it.\"\"\"\n",
    "        server = random.choice(self.servers)\n",
    "        # Add the connection to the dictionary with the selected server\n",
    "        # Add the connection to the server\n",
    "        server.add_connections(connection_id)\n",
    "        self.ensure_availability()\n",
    "\n",
    "    def close_connect(self, connection_id):\n",
    "        \"\"\"Closes the connection on the the server corresponding to connection_id.\"\"\"\n",
    "        # Find out the right server\n",
    "        # Close the connection on the server\n",
    "        # Remove the connection from the load balancer\n",
    "        for server in self.servers:\n",
    "            if connection_id in server.connections:\n",
    "                server.close_connect(connection_id)\n",
    "\n",
    "    def avg_load(self):\n",
    "        \"\"\"Calculates the average load of all servers\"\"\"\n",
    "        # Sum the load of each server and divide by the amount of servers\n",
    "        total_load = 0\n",
    "        total_server = 0\n",
    "        for server in self.servers:\n",
    "            total_load += server.load()\n",
    "            total_server += 1\n",
    "        return total_load/total_server\n",
    "\n",
    "    def ensure_availability(self):\n",
    "        \"\"\"If the average load is higher than 50, spin up a new server\"\"\"\n",
    "        if self.avg_load() > 50:\n",
    "            self.servers.append(Server())\n",
    "\n",
    "    def __str__(self):\n",
    "        \"\"\"Returns a string with the load for each server.\"\"\"\n",
    "        loads = [str(server) for server in self.servers]\n",
    "        return \"[{}]\".format(\",\".join(loads))\n",
    "\n",
    "#End Portion 2#"
   ]
  },
  {
   "cell_type": "code",
   "execution_count": 16,
   "id": "9d36f869",
   "metadata": {},
   "outputs": [
    {
     "name": "stdout",
     "output_type": "stream",
     "text": [
      "6.93723564158192\n"
     ]
    }
   ],
   "source": [
    "l = LoadBalancing()\n",
    "l.add_connections(\"fdca:83d2::f20d\")\n",
    "print(l.avg_load())"
   ]
  },
  {
   "cell_type": "code",
   "execution_count": 17,
   "id": "54e51de8",
   "metadata": {},
   "outputs": [
    {
     "name": "stdout",
     "output_type": "stream",
     "text": [
      "3.46861782079096\n"
     ]
    }
   ],
   "source": [
    "l.servers.append(Server())\n",
    "print(l.avg_load())"
   ]
  },
  {
   "cell_type": "code",
   "execution_count": 18,
   "id": "b986732d",
   "metadata": {},
   "outputs": [
    {
     "name": "stdout",
     "output_type": "stream",
     "text": [
      "3.46861782079096\n"
     ]
    }
   ],
   "source": [
    "l.close_connect(\"fdca:83d2::f20d\")\n",
    "print(l.avg_load())"
   ]
  },
  {
   "cell_type": "code",
   "execution_count": 19,
   "id": "e3b98cfb",
   "metadata": {},
   "outputs": [
    {
     "name": "stdout",
     "output_type": "stream",
     "text": [
      "[62.41%,60.74%,0.00%]\n"
     ]
    }
   ],
   "source": [
    "for connection in range(20):\n",
    "    l.add_connections(connection)\n",
    "print(l)"
   ]
  },
  {
   "cell_type": "code",
   "execution_count": 20,
   "id": "bd062d99",
   "metadata": {},
   "outputs": [
    {
     "name": "stdout",
     "output_type": "stream",
     "text": [
      "41.05078803120778\n"
     ]
    }
   ],
   "source": [
    "print(l.avg_load())"
   ]
  },
  {
   "cell_type": "code",
   "execution_count": null,
   "id": "6706c649",
   "metadata": {},
   "outputs": [],
   "source": []
  }
 ],
 "metadata": {
  "kernelspec": {
   "display_name": "Python 3 (ipykernel)",
   "language": "python",
   "name": "python3"
  },
  "language_info": {
   "codemirror_mode": {
    "name": "ipython",
    "version": 3
   },
   "file_extension": ".py",
   "mimetype": "text/x-python",
   "name": "python",
   "nbconvert_exporter": "python",
   "pygments_lexer": "ipython3",
   "version": "3.9.13"
  }
 },
 "nbformat": 4,
 "nbformat_minor": 5
}

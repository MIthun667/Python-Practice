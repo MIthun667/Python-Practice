{
 "cells": [
  {
   "cell_type": "code",
   "execution_count": 1,
   "id": "baa7218b",
   "metadata": {},
   "outputs": [],
   "source": [
    "mylist= [\"One\", \"Two\", \"Three\"]"
   ]
  },
  {
   "cell_type": "code",
   "execution_count": 2,
   "id": "dc3d0d44",
   "metadata": {},
   "outputs": [
    {
     "data": {
      "text/plain": [
       "['One', 'Two', 'Three']"
      ]
     },
     "execution_count": 2,
     "metadata": {},
     "output_type": "execute_result"
    }
   ],
   "source": [
    "mylist"
   ]
  },
  {
   "cell_type": "code",
   "execution_count": 3,
   "id": "575a37ea",
   "metadata": {},
   "outputs": [
    {
     "data": {
      "text/plain": [
       "['Two', 'Three']"
      ]
     },
     "execution_count": 3,
     "metadata": {},
     "output_type": "execute_result"
    }
   ],
   "source": [
    "mylist[1:]"
   ]
  },
  {
   "cell_type": "code",
   "execution_count": 4,
   "id": "a3d988af",
   "metadata": {},
   "outputs": [
    {
     "data": {
      "text/plain": [
       "['One']"
      ]
     },
     "execution_count": 4,
     "metadata": {},
     "output_type": "execute_result"
    }
   ],
   "source": [
    "mylist[:1]"
   ]
  },
  {
   "cell_type": "code",
   "execution_count": 5,
   "id": "acdd9703",
   "metadata": {},
   "outputs": [
    {
     "data": {
      "text/plain": [
       "['One', 'Two', 'Three']"
      ]
     },
     "execution_count": 5,
     "metadata": {},
     "output_type": "execute_result"
    }
   ],
   "source": [
    "mylist[:3]"
   ]
  },
  {
   "cell_type": "code",
   "execution_count": 6,
   "id": "6d6181ab",
   "metadata": {},
   "outputs": [],
   "source": [
    "add_list=['Four', \"Five\", \"Six\"]"
   ]
  },
  {
   "cell_type": "code",
   "execution_count": 7,
   "id": "cf09eddd",
   "metadata": {},
   "outputs": [],
   "source": [
    "new_list = mylist + add_list"
   ]
  },
  {
   "cell_type": "code",
   "execution_count": 8,
   "id": "845dd2cd",
   "metadata": {},
   "outputs": [
    {
     "data": {
      "text/plain": [
       "['One', 'Two', 'Three', 'Four', 'Five', 'Six']"
      ]
     },
     "execution_count": 8,
     "metadata": {},
     "output_type": "execute_result"
    }
   ],
   "source": [
    "new_list"
   ]
  },
  {
   "cell_type": "code",
   "execution_count": 9,
   "id": "86261473",
   "metadata": {},
   "outputs": [],
   "source": [
    "new_list[0] = 'ONEW'"
   ]
  },
  {
   "cell_type": "code",
   "execution_count": 10,
   "id": "01623412",
   "metadata": {},
   "outputs": [
    {
     "data": {
      "text/plain": [
       "['ONEW', 'Two', 'Three', 'Four', 'Five', 'Six']"
      ]
     },
     "execution_count": 10,
     "metadata": {},
     "output_type": "execute_result"
    }
   ],
   "source": [
    "new_list"
   ]
  },
  {
   "cell_type": "code",
   "execution_count": 11,
   "id": "69a22d12",
   "metadata": {},
   "outputs": [],
   "source": [
    "new_list.append(\"Seven\")"
   ]
  },
  {
   "cell_type": "code",
   "execution_count": 12,
   "id": "5320df77",
   "metadata": {},
   "outputs": [
    {
     "data": {
      "text/plain": [
       "['ONEW', 'Two', 'Three', 'Four', 'Five', 'Six', 'Seven']"
      ]
     },
     "execution_count": 12,
     "metadata": {},
     "output_type": "execute_result"
    }
   ],
   "source": [
    "new_list"
   ]
  },
  {
   "cell_type": "code",
   "execution_count": 13,
   "id": "f63a9722",
   "metadata": {},
   "outputs": [],
   "source": [
    "new_list.remove(\"Seven\")"
   ]
  },
  {
   "cell_type": "code",
   "execution_count": 14,
   "id": "63d962c0",
   "metadata": {},
   "outputs": [
    {
     "data": {
      "text/plain": [
       "['ONEW', 'Two', 'Three', 'Four', 'Five', 'Six']"
      ]
     },
     "execution_count": 14,
     "metadata": {},
     "output_type": "execute_result"
    }
   ],
   "source": [
    "new_list"
   ]
  },
  {
   "cell_type": "code",
   "execution_count": 16,
   "id": "8b6bb124",
   "metadata": {},
   "outputs": [
    {
     "data": {
      "text/plain": [
       "'ONEW'"
      ]
     },
     "execution_count": 16,
     "metadata": {},
     "output_type": "execute_result"
    }
   ],
   "source": [
    "new_list.pop(0)"
   ]
  },
  {
   "cell_type": "code",
   "execution_count": 17,
   "id": "ac3485fb",
   "metadata": {},
   "outputs": [
    {
     "data": {
      "text/plain": [
       "['Two', 'Three', 'Four', 'Five', 'Six']"
      ]
     },
     "execution_count": 17,
     "metadata": {},
     "output_type": "execute_result"
    }
   ],
   "source": [
    "new_list"
   ]
  },
  {
   "cell_type": "code",
   "execution_count": 18,
   "id": "8a5092b1",
   "metadata": {},
   "outputs": [],
   "source": [
    "newList = ['a', 'c', 'x', 'b', 't', 'r']"
   ]
  },
  {
   "cell_type": "code",
   "execution_count": 19,
   "id": "96835f59",
   "metadata": {},
   "outputs": [],
   "source": [
    "newList.sort()"
   ]
  },
  {
   "cell_type": "code",
   "execution_count": 20,
   "id": "7250c73a",
   "metadata": {},
   "outputs": [
    {
     "data": {
      "text/plain": [
       "['a', 'b', 'c', 'r', 't', 'x']"
      ]
     },
     "execution_count": 20,
     "metadata": {},
     "output_type": "execute_result"
    }
   ],
   "source": [
    "newList"
   ]
  },
  {
   "cell_type": "code",
   "execution_count": 22,
   "id": "edce38be",
   "metadata": {},
   "outputs": [],
   "source": [
    "dicts = {\n",
    "    \"key1\": 1,\n",
    "    \"key2\": [1,2,3],\n",
    "    \"key3\":{'key_value': [4,5,6]}\n",
    "}"
   ]
  },
  {
   "cell_type": "code",
   "execution_count": 27,
   "id": "a4648e4b",
   "metadata": {},
   "outputs": [
    {
     "data": {
      "text/plain": [
       "{'key_value': [4, 5, 6]}"
      ]
     },
     "execution_count": 27,
     "metadata": {},
     "output_type": "execute_result"
    }
   ],
   "source": [
    "dicts[\"key3\"]"
   ]
  },
  {
   "cell_type": "code",
   "execution_count": 28,
   "id": "12e62400",
   "metadata": {},
   "outputs": [],
   "source": [
    "d = {'k1': [\"a\", \"b\", \"c\", \"d\"]}"
   ]
  },
  {
   "cell_type": "code",
   "execution_count": 29,
   "id": "b41fe078",
   "metadata": {},
   "outputs": [
    {
     "data": {
      "text/plain": [
       "{'k1': ['a', 'b', 'c', 'd']}"
      ]
     },
     "execution_count": 29,
     "metadata": {},
     "output_type": "execute_result"
    }
   ],
   "source": [
    "d"
   ]
  },
  {
   "cell_type": "code",
   "execution_count": 31,
   "id": "8c97a311",
   "metadata": {},
   "outputs": [
    {
     "data": {
      "text/plain": [
       "'C'"
      ]
     },
     "execution_count": 31,
     "metadata": {},
     "output_type": "execute_result"
    }
   ],
   "source": [
    "d[\"k1\"][2].upper()"
   ]
  },
  {
   "cell_type": "code",
   "execution_count": 32,
   "id": "a91a450f",
   "metadata": {},
   "outputs": [],
   "source": [
    "d[\"k1\"] = { \"e\"}"
   ]
  },
  {
   "cell_type": "code",
   "execution_count": 34,
   "id": "06d18f3b",
   "metadata": {},
   "outputs": [],
   "source": [
    "d = {'k1': 100, 'k2': 200, \"k3\": 300}"
   ]
  },
  {
   "cell_type": "code",
   "execution_count": 36,
   "id": "869ae877",
   "metadata": {},
   "outputs": [],
   "source": [
    "d[\"k4\"]= 400"
   ]
  },
  {
   "cell_type": "code",
   "execution_count": 37,
   "id": "889901fa",
   "metadata": {},
   "outputs": [
    {
     "data": {
      "text/plain": [
       "{'k1': 100, 'k2': 200, 'k3': 300, 'k4': 400}"
      ]
     },
     "execution_count": 37,
     "metadata": {},
     "output_type": "execute_result"
    }
   ],
   "source": [
    "d"
   ]
  },
  {
   "cell_type": "code",
   "execution_count": 38,
   "id": "cf4ea236",
   "metadata": {},
   "outputs": [
    {
     "data": {
      "text/plain": [
       "dict_keys(['k1', 'k2', 'k3', 'k4'])"
      ]
     },
     "execution_count": 38,
     "metadata": {},
     "output_type": "execute_result"
    }
   ],
   "source": [
    "d.keys()"
   ]
  },
  {
   "cell_type": "code",
   "execution_count": 39,
   "id": "d2b5507b",
   "metadata": {},
   "outputs": [
    {
     "data": {
      "text/plain": [
       "dict_values([100, 200, 300, 400])"
      ]
     },
     "execution_count": 39,
     "metadata": {},
     "output_type": "execute_result"
    }
   ],
   "source": [
    "d.values()"
   ]
  },
  {
   "cell_type": "code",
   "execution_count": 40,
   "id": "15744049",
   "metadata": {},
   "outputs": [
    {
     "data": {
      "text/plain": [
       "dict_items([('k1', 100), ('k2', 200), ('k3', 300), ('k4', 400)])"
      ]
     },
     "execution_count": 40,
     "metadata": {},
     "output_type": "execute_result"
    }
   ],
   "source": [
    "d.items()"
   ]
  },
  {
   "cell_type": "code",
   "execution_count": 41,
   "id": "c21e0308",
   "metadata": {},
   "outputs": [],
   "source": [
    "d[\"k1\"] = \"New value assign\""
   ]
  },
  {
   "cell_type": "code",
   "execution_count": 42,
   "id": "1f602905",
   "metadata": {},
   "outputs": [
    {
     "data": {
      "text/plain": [
       "{'k1': 'New value assign', 'k2': 200, 'k3': 300, 'k4': 400}"
      ]
     },
     "execution_count": 42,
     "metadata": {},
     "output_type": "execute_result"
    }
   ],
   "source": [
    "d"
   ]
  },
  {
   "cell_type": "code",
   "execution_count": 43,
   "id": "78f86719",
   "metadata": {},
   "outputs": [],
   "source": [
    "lists = set()"
   ]
  },
  {
   "cell_type": "code",
   "execution_count": 44,
   "id": "0b49c70f",
   "metadata": {},
   "outputs": [],
   "source": [
    "lists.add(1)"
   ]
  },
  {
   "cell_type": "code",
   "execution_count": 45,
   "id": "ce77586f",
   "metadata": {},
   "outputs": [
    {
     "data": {
      "text/plain": [
       "{1}"
      ]
     },
     "execution_count": 45,
     "metadata": {},
     "output_type": "execute_result"
    }
   ],
   "source": [
    "lists"
   ]
  },
  {
   "cell_type": "code",
   "execution_count": 46,
   "id": "08bc0f8d",
   "metadata": {},
   "outputs": [],
   "source": [
    "lists.add(2)"
   ]
  },
  {
   "cell_type": "code",
   "execution_count": 47,
   "id": "c2b3c6d6",
   "metadata": {},
   "outputs": [
    {
     "data": {
      "text/plain": [
       "{1, 2}"
      ]
     },
     "execution_count": 47,
     "metadata": {},
     "output_type": "execute_result"
    }
   ],
   "source": [
    "lists"
   ]
  },
  {
   "cell_type": "code",
   "execution_count": 48,
   "id": "962c0808",
   "metadata": {},
   "outputs": [],
   "source": [
    "lists = [1,1,1,1,1,1,2,2,2,3,3,6,5,5,4,6,4,8,7,4,6,8,10]"
   ]
  },
  {
   "cell_type": "code",
   "execution_count": 49,
   "id": "8dc7e4da",
   "metadata": {},
   "outputs": [
    {
     "data": {
      "text/plain": [
       "{1, 2, 3, 4, 5, 6, 7, 8, 10}"
      ]
     },
     "execution_count": 49,
     "metadata": {},
     "output_type": "execute_result"
    }
   ],
   "source": [
    "set(lists)"
   ]
  },
  {
   "cell_type": "code",
   "execution_count": 50,
   "id": "6ab4b07a",
   "metadata": {},
   "outputs": [
    {
     "name": "stdout",
     "output_type": "stream",
     "text": [
      "Writing myfile.txt\n"
     ]
    }
   ],
   "source": [
    "%%writefile myfile.txt\n",
    "this is my file\n",
    "this is second line\n",
    "this is third line"
   ]
  },
  {
   "cell_type": "code",
   "execution_count": 52,
   "id": "ae6d2af3",
   "metadata": {},
   "outputs": [],
   "source": [
    "myfile = open(\"myfile.txt\")"
   ]
  },
  {
   "cell_type": "code",
   "execution_count": 54,
   "id": "ef5dac3f",
   "metadata": {},
   "outputs": [
    {
     "data": {
      "text/plain": [
       "'this is my file\\nthis is second line\\nthis is third line\\n'"
      ]
     },
     "execution_count": 54,
     "metadata": {},
     "output_type": "execute_result"
    }
   ],
   "source": [
    "myfile.read()"
   ]
  },
  {
   "cell_type": "markdown",
   "id": "24455652",
   "metadata": {},
   "source": [
    "myfile.read()"
   ]
  },
  {
   "cell_type": "code",
   "execution_count": 55,
   "id": "ce3ca294",
   "metadata": {},
   "outputs": [
    {
     "data": {
      "text/plain": [
       "''"
      ]
     },
     "execution_count": 55,
     "metadata": {},
     "output_type": "execute_result"
    }
   ],
   "source": [
    "myfile.read()"
   ]
  },
  {
   "cell_type": "code",
   "execution_count": 56,
   "id": "835ca41b",
   "metadata": {},
   "outputs": [
    {
     "data": {
      "text/plain": [
       "0"
      ]
     },
     "execution_count": 56,
     "metadata": {},
     "output_type": "execute_result"
    }
   ],
   "source": [
    "myfile.seek(0)"
   ]
  },
  {
   "cell_type": "code",
   "execution_count": 57,
   "id": "7b6771ec",
   "metadata": {},
   "outputs": [
    {
     "data": {
      "text/plain": [
       "'this is my file\\nthis is second line\\nthis is third line\\n'"
      ]
     },
     "execution_count": 57,
     "metadata": {},
     "output_type": "execute_result"
    }
   ],
   "source": [
    "myfile.read()"
   ]
  },
  {
   "cell_type": "code",
   "execution_count": 58,
   "id": "bccb3b6d",
   "metadata": {},
   "outputs": [],
   "source": [
    "with open('myfile.txt') as my_new_file:\n",
    "    contents = my_new_file.readlines()"
   ]
  },
  {
   "cell_type": "code",
   "execution_count": 59,
   "id": "b63a7b69",
   "metadata": {},
   "outputs": [
    {
     "data": {
      "text/plain": [
       "['this is my file\\n', 'this is second line\\n', 'this is third line\\n']"
      ]
     },
     "execution_count": 59,
     "metadata": {},
     "output_type": "execute_result"
    }
   ],
   "source": [
    "contents"
   ]
  },
  {
   "cell_type": "code",
   "execution_count": 60,
   "id": "5bc92974",
   "metadata": {},
   "outputs": [
    {
     "name": "stdout",
     "output_type": "stream",
     "text": [
      "Writing new_file.txt\n"
     ]
    }
   ],
   "source": [
    "%%writefile new_file.txt\n",
    "THIS IS THE FIRST PART\n",
    "THIS IS THE SECOND PART\n",
    "THIS IS THE THIRD PART"
   ]
  },
  {
   "cell_type": "code",
   "execution_count": 64,
   "id": "e36d693c",
   "metadata": {},
   "outputs": [
    {
     "name": "stdout",
     "output_type": "stream",
     "text": [
      "THIS IS THE FIRST PART\n",
      "THIS IS THE SECOND PART\n",
      "THIS IS THE THIRD PART\n",
      "\n"
     ]
    }
   ],
   "source": [
    "with open('new_file.txt', mode='r') as f:\n",
    "    print(f.read())"
   ]
  },
  {
   "cell_type": "code",
   "execution_count": 66,
   "id": "7ed7c47b",
   "metadata": {},
   "outputs": [],
   "source": [
    "with open('new_file.txt', mode=\"a\") as f:\n",
    "    f.write(\"THIS IS THE FOURTH PART\")"
   ]
  },
  {
   "cell_type": "code",
   "execution_count": 68,
   "id": "321b4121",
   "metadata": {},
   "outputs": [
    {
     "name": "stdout",
     "output_type": "stream",
     "text": [
      "THIS IS THE FIRST PART\n",
      "THIS IS THE SECOND PART\n",
      "THIS IS THE THIRD PART\n",
      "THIS IS THE FOURTH PART\n"
     ]
    }
   ],
   "source": [
    "with open(\"new_file.txt\", mode=\"r\") as f:\n",
    "    print(f.read())"
   ]
  },
  {
   "cell_type": "code",
   "execution_count": 5,
   "id": "82a99a49",
   "metadata": {},
   "outputs": [
    {
     "name": "stdout",
     "output_type": "stream",
     "text": [
      "1 23 20\n"
     ]
    }
   ],
   "source": [
    "def calculate_sec(seconds):\n",
    "    hours = seconds // 3600\n",
    "    minutes = (seconds - hours * 3600) // 60\n",
    "    remaining_seconds = seconds - hours * 3600 - minutes * 60\n",
    "    return hours, minutes, remaining_seconds\n",
    "hours , minutes, seconds = calculate_sec(5000)\n",
    "print(hours, minutes, seconds)"
   ]
  },
  {
   "cell_type": "code",
   "execution_count": 10,
   "id": "97a07b8c",
   "metadata": {},
   "outputs": [],
   "source": [
    "def gretting(name):\n",
    "    letter = len(name) * 9\n",
    "    print(f\"Hi this is {name}, Learning python was fun! Huh. Your Lucky number is {letter}\")"
   ]
  },
  {
   "cell_type": "code",
   "execution_count": 12,
   "id": "fa5c4ff4",
   "metadata": {},
   "outputs": [
    {
     "name": "stdout",
     "output_type": "stream",
     "text": [
      "Hi this is Mithun, Learning python was fun! Huh. Your Lucky number is 54\n",
      "Hi this is pip, Learning python was fun! Huh. Your Lucky number is 27\n"
     ]
    }
   ],
   "source": [
    "gretting(\"Mithun\")\n",
    "gretting(\"pip\")"
   ]
  },
  {
   "cell_type": "code",
   "execution_count": 14,
   "id": "424e0cf7",
   "metadata": {},
   "outputs": [
    {
     "name": "stdout",
     "output_type": "stream",
     "text": [
      "49.3482528\n"
     ]
    }
   ],
   "source": [
    "def calculate(d):\n",
    "    q = 3.1416\n",
    "    z = d * (q ** 2)\n",
    "    print(z)\n",
    "calculate(5)"
   ]
  },
  {
   "cell_type": "code",
   "execution_count": 15,
   "id": "a7f10012",
   "metadata": {},
   "outputs": [
    {
     "name": "stdout",
     "output_type": "stream",
     "text": [
      "49.3482528\n"
     ]
    }
   ],
   "source": [
    "def calculate_area(radius):\n",
    "    pi = 3.1416\n",
    "    area = radius * (pi ** 2)\n",
    "    print(area)\n",
    "calculate(5)"
   ]
  },
  {
   "cell_type": "code",
   "execution_count": 16,
   "id": "ddfc5395",
   "metadata": {},
   "outputs": [],
   "source": [
    "def userName(name):\n",
    "    if len(name) < 3:\n",
    "        print(\"Invalid username! Please try again\")\n",
    "    else:\n",
    "        print(\"valid userName\")"
   ]
  },
  {
   "cell_type": "code",
   "execution_count": 17,
   "id": "a02e57cc",
   "metadata": {},
   "outputs": [
    {
     "name": "stdout",
     "output_type": "stream",
     "text": [
      "valid userName\n"
     ]
    }
   ],
   "source": [
    "userName('Mithun')"
   ]
  },
  {
   "cell_type": "code",
   "execution_count": 20,
   "id": "2daa6c69",
   "metadata": {},
   "outputs": [
    {
     "name": "stdout",
     "output_type": "stream",
     "text": [
      "0\n",
      "0.25\n",
      "0.6666666666666667\n",
      "0.5\n",
      "0\n",
      "0\n"
     ]
    }
   ],
   "source": [
    "v = 0.0\n",
    "def fractional_part(numerator, denominator):\n",
    "    if numerator == 0:\n",
    "        return 0\n",
    "    elif denominator == 0:\n",
    "        return 0\n",
    "    else:\n",
    "        v = numerator/denominator\n",
    "        v = v - int(v)\n",
    "        if v == 0.0:\n",
    "            return 0\n",
    "    return v\n",
    "\n",
    "print(fractional_part(5, 5)) # Should be 0\n",
    "print(fractional_part(5, 4)) # Should be 0.25\n",
    "print(fractional_part(5, 3)) # Should be 0.66...\n",
    "print(fractional_part(5, 2)) # Should be 0.5\n",
    "print(fractional_part(5, 0)) # Should be 0\n",
    "print(fractional_part(0, 5)) # Should be 0"
   ]
  },
  {
   "cell_type": "code",
   "execution_count": 21,
   "id": "bdeb1cce",
   "metadata": {},
   "outputs": [
    {
     "data": {
      "text/plain": [
       "False"
      ]
     },
     "execution_count": 21,
     "metadata": {},
     "output_type": "execute_result"
    }
   ],
   "source": [
    "\"big\" > \"small\""
   ]
  },
  {
   "cell_type": "code",
   "execution_count": 22,
   "id": "34524a3d",
   "metadata": {},
   "outputs": [
    {
     "data": {
      "text/plain": [
       "1"
      ]
     },
     "execution_count": 22,
     "metadata": {},
     "output_type": "execute_result"
    }
   ],
   "source": [
    "11%5"
   ]
  },
  {
   "cell_type": "code",
   "execution_count": 23,
   "id": "82b56d5f",
   "metadata": {},
   "outputs": [
    {
     "name": "stdout",
     "output_type": "stream",
     "text": [
      "Not there yet, x=0\n",
      "Not there yet, x=1\n",
      "Not there yet, x=2\n",
      "Not there yet, x=3\n",
      "Not there yet, x=4\n"
     ]
    }
   ],
   "source": [
    "x = 0\n",
    "while x < 5:\n",
    "    print(\"Not there yet, x=\" + str(x))\n",
    "    x = x+1"
   ]
  },
  {
   "cell_type": "code",
   "execution_count": 29,
   "id": "8395c50c",
   "metadata": {},
   "outputs": [],
   "source": [
    "def num(n):\n",
    "    x = 0\n",
    "    while x < n:\n",
    "        print(\"Not there yet, x = \"+str(x))\n",
    "        x += 1\n",
    "    print(\"Done\")"
   ]
  },
  {
   "cell_type": "code",
   "execution_count": 30,
   "id": "6bb1e66c",
   "metadata": {},
   "outputs": [
    {
     "name": "stdout",
     "output_type": "stream",
     "text": [
      "Not there yet, x = 0\n",
      "Not there yet, x = 1\n",
      "Not there yet, x = 2\n",
      "Not there yet, x = 3\n",
      "Not there yet, x = 4\n",
      "Done\n"
     ]
    }
   ],
   "source": [
    "num(5)"
   ]
  },
  {
   "cell_type": "code",
   "execution_count": 1,
   "id": "0b3496ac",
   "metadata": {},
   "outputs": [
    {
     "name": "stdout",
     "output_type": "stream",
     "text": [
      "362880\n"
     ]
    }
   ],
   "source": [
    "product = 1\n",
    "for n in range(1,10):\n",
    "    product = product * n\n",
    "print(product)"
   ]
  },
  {
   "cell_type": "code",
   "execution_count": 3,
   "id": "32baecc0",
   "metadata": {},
   "outputs": [
    {
     "name": "stdout",
     "output_type": "stream",
     "text": [
      "0 -17.77777777777778\n",
      "10 -12.222222222222221\n",
      "20 -6.666666666666667\n",
      "30 -1.1111111111111112\n",
      "40 4.444444444444445\n",
      "50 10.0\n",
      "60 15.555555555555555\n",
      "70 21.11111111111111\n",
      "80 26.666666666666668\n",
      "90 32.22222222222222\n",
      "100 37.77777777777778\n"
     ]
    }
   ],
   "source": [
    "def to_celsius(x):\n",
    "    return (x-32)*5/9\n",
    "for x in range(0, 101, 10):\n",
    "    print(x, to_celsius(x))\n"
   ]
  },
  {
   "cell_type": "code",
   "execution_count": 4,
   "id": "c6fcbe92",
   "metadata": {},
   "outputs": [
    {
     "name": "stdout",
     "output_type": "stream",
     "text": [
      "[0|0] [0|1] [0|2] [0|3] [0|4] [0|5] [0|6] [0|7] [0|8] [0|9] [1|1] [1|2] [1|3] [1|4] [1|5] [1|6] [1|7] [1|8] [1|9] [2|2] [2|3] [2|4] [2|5] [2|6] [2|7] [2|8] [2|9] [3|3] [3|4] [3|5] [3|6] [3|7] [3|8] [3|9] [4|4] [4|5] [4|6] [4|7] [4|8] [4|9] [5|5] [5|6] [5|7] [5|8] [5|9] [6|6] [6|7] [6|8] [6|9] [7|7] [7|8] [7|9] [8|8] [8|9] [9|9] \n"
     ]
    }
   ],
   "source": [
    "for left in range(10):\n",
    "    for right in range(left, 10):\n",
    "        print(\"[\" +str(left) + \"|\" + str(right) + \"]\", end=\" \")\n",
    "print()"
   ]
  },
  {
   "cell_type": "code",
   "execution_count": 5,
   "id": "12f24a68",
   "metadata": {},
   "outputs": [
    {
     "name": "stdout",
     "output_type": "stream",
     "text": [
      "Real Madrid vs Man City\n",
      "Real Madrid vs Paris Saint Germaint\n",
      "Real Madrid vs Barcelona\n",
      "Man City vs Real Madrid\n",
      "Man City vs Paris Saint Germaint\n",
      "Man City vs Barcelona\n",
      "Paris Saint Germaint vs Real Madrid\n",
      "Paris Saint Germaint vs Man City\n",
      "Paris Saint Germaint vs Barcelona\n",
      "Barcelona vs Real Madrid\n",
      "Barcelona vs Man City\n",
      "Barcelona vs Paris Saint Germaint\n"
     ]
    }
   ],
   "source": [
    "teams = [\"Real Madrid\", \"Man City\", \"Paris Saint Germaint\", \"Barcelona\"]\n",
    "for home_teams in teams:\n",
    "    for away_teams in teams:\n",
    "        if home_teams != away_teams:\n",
    "            print(home_teams + \" vs \" + away_teams)"
   ]
  },
  {
   "cell_type": "code",
   "execution_count": 8,
   "id": "78cacc10",
   "metadata": {},
   "outputs": [],
   "source": [
    "def factorial(n):\n",
    "    print(\"Factorial called with \" + str(n))\n",
    "    if n < 2:\n",
    "        print(\"returnning 1\")\n",
    "        return 1\n",
    "    result =  n * factorial(n-1)\n",
    "    print(\"Returnning \" + str(result) + \" for factorial \" + str(n))\n",
    "    return result"
   ]
  },
  {
   "cell_type": "code",
   "execution_count": 9,
   "id": "bd1b54bd",
   "metadata": {},
   "outputs": [
    {
     "name": "stdout",
     "output_type": "stream",
     "text": [
      "Factorial called with 9\n",
      "Factorial called with 8\n",
      "Factorial called with 7\n",
      "Factorial called with 6\n",
      "Factorial called with 5\n",
      "Factorial called with 4\n",
      "Factorial called with 3\n",
      "Factorial called with 2\n",
      "Factorial called with 1\n",
      "returnning 1\n",
      "Returnning 2 for factorial 2\n",
      "Returnning 6 for factorial 3\n",
      "Returnning 24 for factorial 4\n",
      "Returnning 120 for factorial 5\n",
      "Returnning 720 for factorial 6\n",
      "Returnning 5040 for factorial 7\n",
      "Returnning 40320 for factorial 8\n",
      "Returnning 362880 for factorial 9\n"
     ]
    },
    {
     "data": {
      "text/plain": [
       "362880"
      ]
     },
     "execution_count": 9,
     "metadata": {},
     "output_type": "execute_result"
    }
   ],
   "source": [
    "factorial(9)"
   ]
  },
  {
   "cell_type": "code",
   "execution_count": 10,
   "id": "df79f55e",
   "metadata": {},
   "outputs": [
    {
     "name": "stdout",
     "output_type": "stream",
     "text": [
      "0\n",
      "0\n",
      "1\n",
      "0\n",
      "1\n",
      "2\n",
      "0\n",
      "1\n",
      "2\n",
      "3\n",
      "0\n",
      "1\n",
      "2\n",
      "3\n",
      "4\n",
      "0\n",
      "1\n",
      "2\n",
      "3\n",
      "4\n",
      "5\n",
      "0\n",
      "1\n",
      "2\n",
      "3\n",
      "4\n",
      "5\n",
      "6\n",
      "0\n",
      "1\n",
      "2\n",
      "3\n",
      "4\n",
      "5\n",
      "6\n",
      "7\n",
      "0\n",
      "1\n",
      "2\n",
      "3\n",
      "4\n",
      "5\n",
      "6\n",
      "7\n",
      "8\n"
     ]
    }
   ],
   "source": [
    "for x in range(10):\n",
    "    for y in range(x):\n",
    "        print(y)"
   ]
  },
  {
   "cell_type": "code",
   "execution_count": 12,
   "id": "ceb8ae0f",
   "metadata": {},
   "outputs": [],
   "source": [
    "def votes(params):\n",
    "    for vote in params:\n",
    "        print(\"Possible option:\" + vote)"
   ]
  },
  {
   "cell_type": "code",
   "execution_count": 15,
   "id": "a53133bc",
   "metadata": {},
   "outputs": [
    {
     "name": "stdout",
     "output_type": "stream",
     "text": [
      "Possible option:yes\n",
      "Possible option:no\n",
      "Possible option:maybe\n"
     ]
    }
   ],
   "source": [
    "votes([\"yes\", \"no\", \"maybe\"])"
   ]
  },
  {
   "cell_type": "code",
   "execution_count": 16,
   "id": "7e1c33de",
   "metadata": {},
   "outputs": [],
   "source": [
    "def decade_counter():\n",
    "    while year < 50:\n",
    "        year += 10\n",
    "    return year"
   ]
  },
  {
   "cell_type": "code",
   "execution_count": 17,
   "id": "a0c511fa",
   "metadata": {},
   "outputs": [
    {
     "ename": "TypeError",
     "evalue": "decade_counter() takes 0 positional arguments but 1 was given",
     "output_type": "error",
     "traceback": [
      "\u001b[1;31m---------------------------------------------------------------------------\u001b[0m",
      "\u001b[1;31mTypeError\u001b[0m                                 Traceback (most recent call last)",
      "\u001b[1;32m~\\AppData\\Local\\Temp\\ipykernel_13508\\2006632083.py\u001b[0m in \u001b[0;36m<module>\u001b[1;34m\u001b[0m\n\u001b[1;32m----> 1\u001b[1;33m \u001b[0mdecade_counter\u001b[0m\u001b[1;33m(\u001b[0m\u001b[1;36m10\u001b[0m\u001b[1;33m)\u001b[0m\u001b[1;33m\u001b[0m\u001b[1;33m\u001b[0m\u001b[0m\n\u001b[0m",
      "\u001b[1;31mTypeError\u001b[0m: decade_counter() takes 0 positional arguments but 1 was given"
     ]
    }
   ],
   "source": [
    "decade_counter(10)"
   ]
  },
  {
   "cell_type": "code",
   "execution_count": 18,
   "id": "32fc888d",
   "metadata": {},
   "outputs": [],
   "source": [
    "Weather = \"Rainfall\""
   ]
  },
  {
   "cell_type": "code",
   "execution_count": 22,
   "id": "077187aa",
   "metadata": {},
   "outputs": [
    {
     "name": "stdout",
     "output_type": "stream",
     "text": [
      "Rain\n"
     ]
    }
   ],
   "source": [
    "print(Weather[:4])"
   ]
  },
  {
   "cell_type": "code",
   "execution_count": 3,
   "id": "4869d1e9",
   "metadata": {},
   "outputs": [
    {
     "name": "stdout",
     "output_type": "stream",
     "text": [
      "Total character: 22, Avarage length 4.4\n"
     ]
    }
   ],
   "source": [
    "animals = [\"Monkey\", \"Zebra\", \"Dog\", \"Cat\", \"Tiger\"]\n",
    "char = 0\n",
    "for animal in animals:\n",
    "    char+= len(animal)\n",
    "print(\"Total character: {}, Avarage length {}\".format(char, char/len(animal)))"
   ]
  },
  {
   "cell_type": "code",
   "execution_count": 4,
   "id": "e1bdc30e",
   "metadata": {},
   "outputs": [
    {
     "name": "stdout",
     "output_type": "stream",
     "text": [
      "1 - Shakib\n",
      "2 - Liton\n",
      "3 - Tamim\n",
      "4 - Virat\n"
     ]
    }
   ],
   "source": [
    "winners = [\"Shakib\", \"Liton\", \"Tamim\", \"Virat\"]\n",
    "for index, person in enumerate(winners):\n",
    "    print(\"{} - {}\".format(index + 1, person))"
   ]
  },
  {
   "cell_type": "code",
   "execution_count": 5,
   "id": "6ab726a8",
   "metadata": {},
   "outputs": [],
   "source": [
    "def full_emails(people):\n",
    "    result = []\n",
    "    for name, email in people:\n",
    "        result.append(\"{}, <{}>\".format(name, email))\n",
    "    return result"
   ]
  },
  {
   "cell_type": "code",
   "execution_count": 7,
   "id": "d964cb45",
   "metadata": {},
   "outputs": [
    {
     "data": {
      "text/plain": [
       "['Shakil Hossain, <shakil@gmail.com>', 'Habib, <habib@gmail.com>']"
      ]
     },
     "execution_count": 7,
     "metadata": {},
     "output_type": "execute_result"
    }
   ],
   "source": [
    "full_emails([(\"Shakil Hossain\", \"shakil@gmail.com\"), (\"Habib\", \"habib@gmail.com\")])"
   ]
  },
  {
   "cell_type": "code",
   "execution_count": 8,
   "id": "42e24d4e",
   "metadata": {},
   "outputs": [
    {
     "name": "stdout",
     "output_type": "stream",
     "text": [
      "[7, 14, 21, 28, 35, 42, 49, 56, 63, 70]\n"
     ]
    }
   ],
   "source": [
    "mul = []\n",
    "for x in range(1,11):\n",
    "    mul.append(x*7)\n",
    "print(mul)"
   ]
  },
  {
   "cell_type": "code",
   "execution_count": 9,
   "id": "4ac620c8",
   "metadata": {},
   "outputs": [],
   "source": [
    "mul = [x*7 for x in range(1,11)]"
   ]
  },
  {
   "cell_type": "code",
   "execution_count": 11,
   "id": "693dc054",
   "metadata": {},
   "outputs": [
    {
     "data": {
      "text/plain": [
       "[7, 14, 21, 28, 35, 42, 49, 56, 63, 70]"
      ]
     },
     "execution_count": 11,
     "metadata": {},
     "output_type": "execute_result"
    }
   ],
   "source": [
    "mul"
   ]
  },
  {
   "cell_type": "code",
   "execution_count": 3,
   "id": "b956225f",
   "metadata": {},
   "outputs": [
    {
     "name": "stdout",
     "output_type": "stream",
     "text": [
      "JPG\n",
      "PNG\n",
      "PDF\n"
     ]
    }
   ],
   "source": [
    "file_count = {\n",
    "    \"JPG\": 10,\n",
    "    \"PNG\": 14,\n",
    "    \"PDF\": 30\n",
    "}\n",
    "for extension in file_count:\n",
    "    print(extension)"
   ]
  },
  {
   "cell_type": "code",
   "execution_count": 5,
   "id": "af83b5bf",
   "metadata": {},
   "outputs": [
    {
     "name": "stdout",
     "output_type": "stream",
     "text": [
      "There are 10 file and .JPG extensions\n",
      "There are 14 file and .PNG extensions\n",
      "There are 30 file and .PDF extensions\n"
     ]
    }
   ],
   "source": [
    "for ext, amount in file_count.items():\n",
    "    print(\"There are {} file and .{} extensions\".format(amount, ext))"
   ]
  },
  {
   "cell_type": "code",
   "execution_count": 7,
   "id": "b77a6fd5",
   "metadata": {},
   "outputs": [],
   "source": [
    "def count_letters(text):\n",
    "    letter = {}\n",
    "    for letter in text:\n",
    "        if letter not in result:\n",
    "            result[letter] = 0\n",
    "        result[letter] += 1\n",
    "    return result"
   ]
  },
  {
   "cell_type": "code",
   "execution_count": 8,
   "id": "1a525889",
   "metadata": {},
   "outputs": [],
   "source": [
    "wardrobe = {'shirt': ['red', 'blue', 'white'], 'jeans': ['blue', 'black']}\n",
    "new_items = {'jeans': ['white'], 'scarf': ['yellow'], 'socks': ['black', 'brown']}\n",
    "wardrobe.update(new_items)"
   ]
  },
  {
   "cell_type": "code",
   "execution_count": 9,
   "id": "be6b4f7d",
   "metadata": {},
   "outputs": [
    {
     "data": {
      "text/plain": [
       "{'shirt': ['red', 'blue', 'white'],\n",
       " 'jeans': ['white'],\n",
       " 'scarf': ['yellow'],\n",
       " 'socks': ['black', 'brown']}"
      ]
     },
     "execution_count": 9,
     "metadata": {},
     "output_type": "execute_result"
    }
   ],
   "source": [
    "wardrobe"
   ]
  },
  {
   "cell_type": "code",
   "execution_count": 10,
   "id": "cc2c5059",
   "metadata": {},
   "outputs": [],
   "source": [
    "animal = \"Hippopotamus\""
   ]
  },
  {
   "cell_type": "code",
   "execution_count": 11,
   "id": "a7053ec8",
   "metadata": {},
   "outputs": [
    {
     "name": "stdout",
     "output_type": "stream",
     "text": [
      "pop\n",
      "t\n",
      "us\n"
     ]
    }
   ],
   "source": [
    "print(animal[3:6])\n",
    "print(animal[-5])\n",
    "print(animal[10:])"
   ]
  },
  {
   "cell_type": "code",
   "execution_count": 12,
   "id": "3b489abd",
   "metadata": {},
   "outputs": [],
   "source": [
    "colors = [\"red\", \"white\", \"blue\"]\n",
    "colors.insert(2, \"yellow\")"
   ]
  },
  {
   "cell_type": "code",
   "execution_count": 13,
   "id": "a1eb0216",
   "metadata": {},
   "outputs": [
    {
     "data": {
      "text/plain": [
       "['red', 'white', 'yellow', 'blue']"
      ]
     },
     "execution_count": 13,
     "metadata": {},
     "output_type": "execute_result"
    }
   ],
   "source": [
    "colors"
   ]
  },
  {
   "cell_type": "code",
   "execution_count": 14,
   "id": "4eb0df28",
   "metadata": {},
   "outputs": [
    {
     "data": {
      "text/plain": [
       "dict_keys(['router', 'localhost', 'google'])"
      ]
     },
     "execution_count": 14,
     "metadata": {},
     "output_type": "execute_result"
    }
   ],
   "source": [
    "host_addresses = {\"router\": \"192.168.1.1\", \"localhost\": \"127.0.0.1\", \"google\": \"8.8.8.8\"}\n",
    "host_addresses.keys()"
   ]
  },
  {
   "cell_type": "code",
   "execution_count": 1,
   "id": "2f572926",
   "metadata": {},
   "outputs": [],
   "source": [
    "class piglet:\n",
    "    def speak(self):\n",
    "        print(\"Owak Owak\")"
   ]
  },
  {
   "cell_type": "code",
   "execution_count": 3,
   "id": "fc7ce83d",
   "metadata": {},
   "outputs": [
    {
     "name": "stdout",
     "output_type": "stream",
     "text": [
      "Owak Owak\n"
     ]
    }
   ],
   "source": [
    "helmet = piglet()\n",
    "helmet.speak()"
   ]
  },
  {
   "cell_type": "code",
   "execution_count": 6,
   "id": "1d6090cb",
   "metadata": {},
   "outputs": [],
   "source": [
    "class piglet:\n",
    "    name = \"hamlet\"\n",
    "    def speak(self):\n",
    "        print(\"Owak my name is {}!\".format(self.name))\n",
    "hamlet=piglet()\n",
    "hamlet.name = \"Piglet\""
   ]
  },
  {
   "cell_type": "code",
   "execution_count": 7,
   "id": "df636af1",
   "metadata": {},
   "outputs": [
    {
     "name": "stdout",
     "output_type": "stream",
     "text": [
      "Owak my name is Piglet!\n"
     ]
    }
   ],
   "source": [
    "hamlet.speak()"
   ]
  },
  {
   "cell_type": "code",
   "execution_count": 9,
   "id": "4c90211c",
   "metadata": {},
   "outputs": [],
   "source": [
    "class piglet:\n",
    "    year = 0\n",
    "    def piggy_year(self):\n",
    "        return self.year * 18\n",
    "piggy = piglet()"
   ]
  },
  {
   "cell_type": "code",
   "execution_count": 10,
   "id": "a465c793",
   "metadata": {},
   "outputs": [],
   "source": [
    "piggy = piglet()"
   ]
  },
  {
   "cell_type": "code",
   "execution_count": 11,
   "id": "40936d28",
   "metadata": {},
   "outputs": [
    {
     "data": {
      "text/plain": [
       "0"
      ]
     },
     "execution_count": 11,
     "metadata": {},
     "output_type": "execute_result"
    }
   ],
   "source": [
    "piggy.piggy_year()"
   ]
  },
  {
   "cell_type": "code",
   "execution_count": 12,
   "id": "dee1772b",
   "metadata": {},
   "outputs": [],
   "source": [
    "piggy.year = 2"
   ]
  },
  {
   "cell_type": "code",
   "execution_count": 13,
   "id": "8c08daf5",
   "metadata": {},
   "outputs": [
    {
     "data": {
      "text/plain": [
       "36"
      ]
     },
     "execution_count": 13,
     "metadata": {},
     "output_type": "execute_result"
    }
   ],
   "source": [
    "piggy.piggy_year()"
   ]
  },
  {
   "cell_type": "code",
   "execution_count": 14,
   "id": "9f332dea",
   "metadata": {},
   "outputs": [],
   "source": [
    "class Apple:\n",
    "    def __init__(self, color, flavor):\n",
    "        self.color = color\n",
    "        self.flavor = flavor"
   ]
  },
  {
   "cell_type": "code",
   "execution_count": 16,
   "id": "367dc9a9",
   "metadata": {},
   "outputs": [
    {
     "data": {
      "text/plain": [
       "'red'"
      ]
     },
     "execution_count": 16,
     "metadata": {},
     "output_type": "execute_result"
    }
   ],
   "source": [
    "fruits = Apple(\"red\", \"sweet\")\n",
    "fruits.color"
   ]
  },
  {
   "cell_type": "code",
   "execution_count": 17,
   "id": "d440fcd6",
   "metadata": {},
   "outputs": [
    {
     "data": {
      "text/plain": [
       "'sweet'"
      ]
     },
     "execution_count": 17,
     "metadata": {},
     "output_type": "execute_result"
    }
   ],
   "source": [
    "fruits.flavor"
   ]
  },
  {
   "cell_type": "code",
   "execution_count": 30,
   "id": "b84e815f",
   "metadata": {},
   "outputs": [
    {
     "name": "stdout",
     "output_type": "stream",
     "text": [
      "hi, my name is Mithun\n"
     ]
    }
   ],
   "source": [
    "class Person:\n",
    "    def __init__(self, name):\n",
    "        self.name = name\n",
    "    def greeting(self):\n",
    "        # Should return \"hi, my name is \" followed by the name of the Person.\n",
    "        return \"hi, my name is {}\".format(self.name) \n",
    "\n",
    "# Create a new instance with a name of your choice\n",
    "some_person = Person(\"Mithun\") \n",
    "# Call the greeting method\n",
    "print(some_person.greeting())"
   ]
  },
  {
   "cell_type": "code",
   "execution_count": 31,
   "id": "2feead42",
   "metadata": {},
   "outputs": [],
   "source": [
    "class Apple:\n",
    "    def __init__(self, color, flavor):\n",
    "        self.color = color\n",
    "        self.flavor = flavor\n",
    "    def __str__(self):\n",
    "        return \"This is a {} and very {}\".format(self.color, self.flavor)\n",
    "fruits = Apple(\"red\", \"sweet\")"
   ]
  },
  {
   "cell_type": "code",
   "execution_count": 32,
   "id": "7a459f84",
   "metadata": {},
   "outputs": [],
   "source": [
    "class Repository:\n",
    "    def __init__(self):\n",
    "        self.packages = {}\n",
    "    def add_package(self, package):\n",
    "        self.packages[package.name] = package\n",
    "    def total_size(self):\n",
    "        result = 0\n",
    "        for package in self.package.values():\n",
    "            result += package.size\n",
    "        return result"
   ]
  },
  {
   "cell_type": "code",
   "execution_count": 33,
   "id": "2680eee3",
   "metadata": {},
   "outputs": [
    {
     "ename": "KeyError",
     "evalue": "'___'",
     "output_type": "error",
     "traceback": [
      "\u001b[1;31m---------------------------------------------------------------------------\u001b[0m",
      "\u001b[1;31mKeyError\u001b[0m                                  Traceback (most recent call last)",
      "\u001b[1;32m~\\AppData\\Local\\Temp\\ipykernel_5212\\267711842.py\u001b[0m in \u001b[0;36m<module>\u001b[1;34m\u001b[0m\n\u001b[0;32m     26\u001b[0m \u001b[0mpolo\u001b[0m\u001b[1;33m.\u001b[0m\u001b[0madd_item\u001b[0m\u001b[1;33m(\u001b[0m\u001b[0mpolo\u001b[0m\u001b[1;33m.\u001b[0m\u001b[0mname\u001b[0m\u001b[1;33m,\u001b[0m \u001b[0mpolo\u001b[0m\u001b[1;33m.\u001b[0m\u001b[0mmaterial\u001b[0m\u001b[1;33m,\u001b[0m \u001b[1;36m4\u001b[0m\u001b[1;33m)\u001b[0m\u001b[1;33m\u001b[0m\u001b[1;33m\u001b[0m\u001b[0m\n\u001b[0;32m     27\u001b[0m \u001b[0msweatpants\u001b[0m\u001b[1;33m.\u001b[0m\u001b[0madd_item\u001b[0m\u001b[1;33m(\u001b[0m\u001b[0msweatpants\u001b[0m\u001b[1;33m.\u001b[0m\u001b[0mname\u001b[0m\u001b[1;33m,\u001b[0m \u001b[0msweatpants\u001b[0m\u001b[1;33m.\u001b[0m\u001b[0mmaterial\u001b[0m\u001b[1;33m,\u001b[0m \u001b[1;36m6\u001b[0m\u001b[1;33m)\u001b[0m\u001b[1;33m\u001b[0m\u001b[1;33m\u001b[0m\u001b[0m\n\u001b[1;32m---> 28\u001b[1;33m \u001b[0mcurrent_stock\u001b[0m \u001b[1;33m=\u001b[0m \u001b[0mpolo\u001b[0m\u001b[1;33m.\u001b[0m\u001b[0mStock_by_Material\u001b[0m\u001b[1;33m(\u001b[0m\u001b[1;34m\"Cotton\"\u001b[0m\u001b[1;33m)\u001b[0m\u001b[1;33m\u001b[0m\u001b[1;33m\u001b[0m\u001b[0m\n\u001b[0m\u001b[0;32m     29\u001b[0m \u001b[0mprint\u001b[0m\u001b[1;33m(\u001b[0m\u001b[0mcurrent_stock\u001b[0m\u001b[1;33m)\u001b[0m\u001b[1;33m\u001b[0m\u001b[1;33m\u001b[0m\u001b[0m\n",
      "\u001b[1;32m~\\AppData\\Local\\Temp\\ipykernel_5212\\267711842.py\u001b[0m in \u001b[0;36mStock_by_Material\u001b[1;34m(self, material)\u001b[0m\n\u001b[0;32m     11\u001b[0m     \u001b[0mcount\u001b[0m\u001b[1;33m=\u001b[0m\u001b[1;36m0\u001b[0m\u001b[1;33m\u001b[0m\u001b[1;33m\u001b[0m\u001b[0m\n\u001b[0;32m     12\u001b[0m     \u001b[0mn\u001b[0m\u001b[1;33m=\u001b[0m\u001b[1;36m0\u001b[0m\u001b[1;33m\u001b[0m\u001b[1;33m\u001b[0m\u001b[0m\n\u001b[1;32m---> 13\u001b[1;33m     \u001b[1;32mfor\u001b[0m \u001b[0mitem\u001b[0m \u001b[1;32min\u001b[0m \u001b[0mClothing\u001b[0m\u001b[1;33m.\u001b[0m\u001b[0mstock\u001b[0m\u001b[1;33m[\u001b[0m\u001b[1;34m'___'\u001b[0m\u001b[1;33m]\u001b[0m\u001b[1;33m:\u001b[0m\u001b[1;33m\u001b[0m\u001b[1;33m\u001b[0m\u001b[0m\n\u001b[0m\u001b[0;32m     14\u001b[0m       \u001b[1;32mif\u001b[0m \u001b[0mitem\u001b[0m \u001b[1;33m==\u001b[0m \u001b[0mmaterial\u001b[0m\u001b[1;33m:\u001b[0m\u001b[1;33m\u001b[0m\u001b[1;33m\u001b[0m\u001b[0m\n\u001b[0;32m     15\u001b[0m         \u001b[0mcount\u001b[0m \u001b[1;33m+=\u001b[0m \u001b[0mClothing\u001b[0m\u001b[1;33m.\u001b[0m\u001b[0m___\u001b[0m\u001b[1;33m[\u001b[0m\u001b[1;34m'amount'\u001b[0m\u001b[1;33m]\u001b[0m\u001b[1;33m[\u001b[0m\u001b[0mn\u001b[0m\u001b[1;33m]\u001b[0m\u001b[1;33m\u001b[0m\u001b[1;33m\u001b[0m\u001b[0m\n",
      "\u001b[1;31mKeyError\u001b[0m: '___'"
     ]
    }
   ],
   "source": [
    "class Clothing:\n",
    "  stock={ 'name': [],'material' :[], 'amount':[]}\n",
    "  def __init__(self,name):\n",
    "    material = \"\"\n",
    "    self.name = name\n",
    "  def add_item(self, name, material, amount):\n",
    "    Clothing.stock['name'].append(self.name)\n",
    "    Clothing.stock['material'].append(self.material)\n",
    "    Clothing.stock['amount'].append(amount)\n",
    "  def Stock_by_Material(self, material):\n",
    "    count=0\n",
    "    n=0\n",
    "    for item in Clothing.stock['___']:\n",
    "      if item == material:\n",
    "        count += Clothing.___['amount'][n]\n",
    "        n+=1\n",
    "    return count\n",
    "\n",
    "class shirt(Clothing):\n",
    "  material=\"Cotton\"\n",
    "class pants(Clothing):\n",
    "  material=\"Cotton\"\n",
    "  \n",
    "polo = shirt(\"Polo\")\n",
    "sweatpants = pants(\"Sweatpants\")\n",
    "polo.add_item(polo.name, polo.material, 4)\n",
    "sweatpants.add_item(sweatpants.name, sweatpants.material, 6)\n",
    "current_stock = polo.Stock_by_Material(\"Cotton\")\n",
    "print(current_stock)"
   ]
  },
  {
   "cell_type": "code",
   "execution_count": 42,
   "id": "a73e6602",
   "metadata": {},
   "outputs": [],
   "source": [
    "def get_event_date(event):\n",
    "    return event.date\n",
    "def current_user(events):\n",
    "    events.sort(key=get_event_date)\n",
    "    machines = {}\n",
    "    for event in events:\n",
    "        if event.machine not in machines:\n",
    "            machines[event.machine] = set()\n",
    "        if event.type==\"login\":\n",
    "            machines[event.machine].add(event.user)\n",
    "        elif event.type==\"logout\":\n",
    "            machines[event.machine].remove(event.user)\n",
    "    return machines\n",
    "def generate_user(machines):\n",
    "    for machine, users in machines.item():\n",
    "        if len(users) > 0:\n",
    "            user_list = \" ,\".join(users)\n",
    "            print(\"{} {}\".format(machine, user_list))"
   ]
  },
  {
   "cell_type": "code",
   "execution_count": 44,
   "id": "da9aa23d",
   "metadata": {},
   "outputs": [],
   "source": [
    "class Event:\n",
    "    def __init__(self, event_date, event_type, machine_name, user):\n",
    "        self.date = event_date\n",
    "        self.machine = machine_name\n",
    "        self.type = event_type\n",
    "        self.user = user"
   ]
  },
  {
   "cell_type": "code",
   "execution_count": 47,
   "id": "f2ee3572",
   "metadata": {},
   "outputs": [],
   "source": [
    "events = [\n",
    "    Event(\"2023-01-05 01-21-66AM\", \"login\", \"myworkstation.local\", \"jordana\"),\n",
    "    Event(\"2023-01-05 01-21-66AM\", \"login\", \"workstation.local\", \"jordane\"),\n",
    "    Event(\"2023-01-05 01-21-66AM\", \"login\", \"mywork.local\", \"jordand\"),\n",
    "    Event(\"2023-01-05 01-21-66AM\", \"login\", \"fuck.local\", \"jordans\"),\n",
    "    Event(\"2023-01-05 01-21-66AM\", \"login\", \"fuckyou.local\", \"jordanf\"),\n",
    "    Event(\"2023-01-05 01-21-66AM\", \"login\", \"myworfuckkstation.local\", \"jordanc\")\n",
    "]"
   ]
  },
  {
   "cell_type": "code",
   "execution_count": 48,
   "id": "3f53a144",
   "metadata": {},
   "outputs": [
    {
     "name": "stdout",
     "output_type": "stream",
     "text": [
      "{'myworkstation.local': {'jordana'}, 'workstation.local': {'jordane'}, 'mywork.local': {'jordand'}, 'fuck.local': {'jordans'}, 'fuckyou.local': {'jordanf'}, 'myworfuckkstation.local': {'jordanc'}}\n"
     ]
    }
   ],
   "source": [
    "users= current_user(events)\n",
    "print(users)"
   ]
  },
  {
   "cell_type": "code",
   "execution_count": 49,
   "id": "c74b261b",
   "metadata": {},
   "outputs": [
    {
     "ename": "NameError",
     "evalue": "name 'wordcloud' is not defined",
     "output_type": "error",
     "traceback": [
      "\u001b[1;31m---------------------------------------------------------------------------\u001b[0m",
      "\u001b[1;31mNameError\u001b[0m                                 Traceback (most recent call last)",
      "\u001b[1;32m~\\AppData\\Local\\Temp\\ipykernel_5212\\4118240110.py\u001b[0m in \u001b[0;36m<module>\u001b[1;34m\u001b[0m\n\u001b[1;32m----> 1\u001b[1;33m \u001b[0mcloud\u001b[0m \u001b[1;33m=\u001b[0m \u001b[0mwordcloud\u001b[0m\u001b[1;33m.\u001b[0m\u001b[0mWordCloud\u001b[0m\u001b[1;33m(\u001b[0m\u001b[1;33m)\u001b[0m\u001b[1;33m\u001b[0m\u001b[1;33m\u001b[0m\u001b[0m\n\u001b[0m\u001b[0;32m      2\u001b[0m \u001b[0mcloud\u001b[0m\u001b[1;33m.\u001b[0m\u001b[0mgenerate_from_frequencies\u001b[0m\u001b[1;33m(\u001b[0m\u001b[0mfrequencies\u001b[0m\u001b[1;33m)\u001b[0m\u001b[1;33m\u001b[0m\u001b[1;33m\u001b[0m\u001b[0m\n\u001b[0;32m      3\u001b[0m \u001b[0mcloud\u001b[0m\u001b[1;33m.\u001b[0m\u001b[0mto_file\u001b[0m\u001b[1;33m(\u001b[0m\u001b[1;34m\"myfile.jpg\"\u001b[0m\u001b[1;33m)\u001b[0m\u001b[1;33m\u001b[0m\u001b[1;33m\u001b[0m\u001b[0m\n",
      "\u001b[1;31mNameError\u001b[0m: name 'wordcloud' is not defined"
     ]
    }
   ],
   "source": [
    "cloud = wordcloud.WordCloud()\n",
    "cloud.generate_from_frequencies(frequencies)\n",
    "cloud.to_file(\"myfile.jpg\")"
   ]
  },
  {
   "cell_type": "code",
   "execution_count": 2,
   "id": "14f8ec12",
   "metadata": {},
   "outputs": [],
   "source": [
    "import numpy as np \n",
    "import pandas as pd \n",
    "from pandas import Series, DataFrame"
   ]
  },
  {
   "cell_type": "code",
   "execution_count": 4,
   "id": "ef804616",
   "metadata": {},
   "outputs": [],
   "source": [
    "ser = Series([1,2, 3, 4, 5])"
   ]
  },
  {
   "cell_type": "code",
   "execution_count": 5,
   "id": "70082d4e",
   "metadata": {},
   "outputs": [
    {
     "data": {
      "text/plain": [
       "0    1\n",
       "1    2\n",
       "2    3\n",
       "3    4\n",
       "4    5\n",
       "dtype: int64"
      ]
     },
     "execution_count": 5,
     "metadata": {},
     "output_type": "execute_result"
    }
   ],
   "source": [
    "ser"
   ]
  },
  {
   "cell_type": "code",
   "execution_count": 7,
   "id": "5d477d8d",
   "metadata": {},
   "outputs": [],
   "source": [
    "ser1 = Series([1000000, 250000054, 321548954, 254687456, 245879542, 4214565,], index= [\"Bangladesh\", \"India\", \"China\", \"South-korea\", \"Pakistan\", \"Italy\"])"
   ]
  },
  {
   "cell_type": "code",
   "execution_count": 8,
   "id": "04e7328b",
   "metadata": {},
   "outputs": [
    {
     "data": {
      "text/plain": [
       "Bangladesh       1000000\n",
       "India          250000054\n",
       "China          321548954\n",
       "South-korea    254687456\n",
       "Pakistan       245879542\n",
       "Italy            4214565\n",
       "dtype: int64"
      ]
     },
     "execution_count": 8,
     "metadata": {},
     "output_type": "execute_result"
    }
   ],
   "source": [
    "ser1"
   ]
  },
  {
   "cell_type": "markdown",
   "id": "f08500a4",
   "metadata": {},
   "source": [
    "# DataFrames"
   ]
  },
  {
   "cell_type": "code",
   "execution_count": 10,
   "id": "cbc3e4c0",
   "metadata": {},
   "outputs": [],
   "source": [
    "import numpy as np\n",
    "import pandas as pd\n",
    "from pandas import Series, DataFrame"
   ]
  },
  {
   "cell_type": "code",
   "execution_count": 18,
   "id": "fe3336ce",
   "metadata": {},
   "outputs": [
    {
     "data": {
      "text/plain": [
       "True"
      ]
     },
     "execution_count": 18,
     "metadata": {},
     "output_type": "execute_result"
    }
   ],
   "source": [
    "import webbrowser\n",
    "website = \"https://www.ncaa.com/rankings/football/fbs/associated-press\"\n",
    "webbrowser.open(website)"
   ]
  },
  {
   "cell_type": "code",
   "execution_count": 19,
   "id": "24389682",
   "metadata": {},
   "outputs": [],
   "source": [
    "nfl_frame = pd.read_clipboard()"
   ]
  },
  {
   "cell_type": "code",
   "execution_count": 20,
   "id": "a271797c",
   "metadata": {},
   "outputs": [
    {
     "data": {
      "text/html": [
       "<div>\n",
       "<style scoped>\n",
       "    .dataframe tbody tr th:only-of-type {\n",
       "        vertical-align: middle;\n",
       "    }\n",
       "\n",
       "    .dataframe tbody tr th {\n",
       "        vertical-align: top;\n",
       "    }\n",
       "\n",
       "    .dataframe thead th {\n",
       "        text-align: right;\n",
       "    }\n",
       "</style>\n",
       "<table border=\"1\" class=\"dataframe\">\n",
       "  <thead>\n",
       "    <tr style=\"text-align: right;\">\n",
       "      <th></th>\n",
       "      <th>https://www.ncaa.com/rankings/football/fbs/associated-press</th>\n",
       "    </tr>\n",
       "  </thead>\n",
       "  <tbody>\n",
       "  </tbody>\n",
       "</table>\n",
       "</div>"
      ],
      "text/plain": [
       "Empty DataFrame\n",
       "Columns: [https://www.ncaa.com/rankings/football/fbs/associated-press]\n",
       "Index: []"
      ]
     },
     "execution_count": 20,
     "metadata": {},
     "output_type": "execute_result"
    }
   ],
   "source": [
    "nfl_frame"
   ]
  },
  {
   "cell_type": "code",
   "execution_count": 21,
   "id": "09d13357",
   "metadata": {},
   "outputs": [
    {
     "data": {
      "text/plain": [
       "Index(['https://www.ncaa.com/rankings/football/fbs/associated-press'], dtype='object')"
      ]
     },
     "execution_count": 21,
     "metadata": {},
     "output_type": "execute_result"
    }
   ],
   "source": [
    "nfl_frame.columns"
   ]
  },
  {
   "cell_type": "code",
   "execution_count": 1,
   "id": "be852fa3",
   "metadata": {},
   "outputs": [
    {
     "ename": "ModuleNotFoundError",
     "evalue": "No module named 'pandas.io.data'",
     "output_type": "error",
     "traceback": [
      "\u001b[1;31m---------------------------------------------------------------------------\u001b[0m",
      "\u001b[1;31mModuleNotFoundError\u001b[0m                       Traceback (most recent call last)",
      "\u001b[1;32m~\\AppData\\Local\\Temp\\ipykernel_14232\\1710553211.py\u001b[0m in \u001b[0;36m<module>\u001b[1;34m\u001b[0m\n\u001b[1;32m----> 1\u001b[1;33m \u001b[1;32mimport\u001b[0m \u001b[0mpandas\u001b[0m\u001b[1;33m.\u001b[0m\u001b[0mio\u001b[0m\u001b[1;33m.\u001b[0m\u001b[0mdata\u001b[0m \u001b[1;32mas\u001b[0m \u001b[0mpdweb\u001b[0m\u001b[1;33m\u001b[0m\u001b[1;33m\u001b[0m\u001b[0m\n\u001b[0m",
      "\u001b[1;31mModuleNotFoundError\u001b[0m: No module named 'pandas.io.data'"
     ]
    }
   ],
   "source": [
    "import pandas.io.data as pdweb"
   ]
  },
  {
   "cell_type": "code",
   "execution_count": 4,
   "id": "892a3097",
   "metadata": {},
   "outputs": [
    {
     "name": "stdout",
     "output_type": "stream",
     "text": [
      "Requirement already satisfied: pandas-datareader in j:\\python\\anaconda\\lib\\site-packages (0.10.0)\n",
      "Requirement already satisfied: pandas>=0.23 in j:\\python\\anaconda\\lib\\site-packages (from pandas-datareader) (1.4.4)\n",
      "Requirement already satisfied: requests>=2.19.0 in j:\\python\\anaconda\\lib\\site-packages (from pandas-datareader) (2.28.1)\n",
      "Requirement already satisfied: lxml in j:\\python\\anaconda\\lib\\site-packages (from pandas-datareader) (4.9.1)\n",
      "Requirement already satisfied: numpy>=1.18.5 in j:\\python\\anaconda\\lib\\site-packages (from pandas>=0.23->pandas-datareader) (1.21.5)\n",
      "Requirement already satisfied: pytz>=2020.1 in j:\\python\\anaconda\\lib\\site-packages (from pandas>=0.23->pandas-datareader) (2022.1)\n",
      "Requirement already satisfied: python-dateutil>=2.8.1 in j:\\python\\anaconda\\lib\\site-packages (from pandas>=0.23->pandas-datareader) (2.8.2)\n",
      "Requirement already satisfied: urllib3<1.27,>=1.21.1 in j:\\python\\anaconda\\lib\\site-packages (from requests>=2.19.0->pandas-datareader) (1.26.11)\n",
      "Requirement already satisfied: charset-normalizer<3,>=2 in j:\\python\\anaconda\\lib\\site-packages (from requests>=2.19.0->pandas-datareader) (2.0.4)\n",
      "Requirement already satisfied: certifi>=2017.4.17 in j:\\python\\anaconda\\lib\\site-packages (from requests>=2.19.0->pandas-datareader) (2022.9.14)\n",
      "Requirement already satisfied: idna<4,>=2.5 in j:\\python\\anaconda\\lib\\site-packages (from requests>=2.19.0->pandas-datareader) (3.3)\n",
      "Requirement already satisfied: six>=1.5 in j:\\python\\anaconda\\lib\\site-packages (from python-dateutil>=2.8.1->pandas>=0.23->pandas-datareader) (1.16.0)\n",
      "Collecting git+https://github.com/pydata/pandas-datareader.git\n",
      "  Cloning https://github.com/pydata/pandas-datareader.git to c:\\users\\mhose\\appdata\\local\\temp\\pip-req-build-codki3sj\n"
     ]
    },
    {
     "name": "stderr",
     "output_type": "stream",
     "text": [
      "  ERROR: Error [WinError 2] The system cannot find the file specified while executing command git version\n",
      "ERROR: Cannot find command 'git' - do you have 'git' installed and in your PATH?\n"
     ]
    }
   ],
   "source": [
    "!pip install pandas-datareader\n"
   ]
  },
  {
   "cell_type": "code",
   "execution_count": 12,
   "id": "a420aebd",
   "metadata": {},
   "outputs": [
    {
     "ename": "ImportError",
     "evalue": "cannot import name 'web' from 'pandas_datareader' (J:\\python\\Anaconda\\lib\\site-packages\\pandas_datareader\\__init__.py)",
     "output_type": "error",
     "traceback": [
      "\u001b[1;31m---------------------------------------------------------------------------\u001b[0m",
      "\u001b[1;31mImportError\u001b[0m                               Traceback (most recent call last)",
      "\u001b[1;32m~\\AppData\\Local\\Temp\\ipykernel_14232\\2005460118.py\u001b[0m in \u001b[0;36m<module>\u001b[1;34m\u001b[0m\n\u001b[1;32m----> 1\u001b[1;33m \u001b[1;32mfrom\u001b[0m \u001b[0mpandas_datareader\u001b[0m \u001b[1;32mimport\u001b[0m \u001b[0mdata\u001b[0m\u001b[1;33m,\u001b[0m \u001b[0mweb\u001b[0m  \u001b[1;31m# <- use this\u001b[0m\u001b[1;33m\u001b[0m\u001b[1;33m\u001b[0m\u001b[0m\n\u001b[0m",
      "\u001b[1;31mImportError\u001b[0m: cannot import name 'web' from 'pandas_datareader' (J:\\python\\Anaconda\\lib\\site-packages\\pandas_datareader\\__init__.py)"
     ]
    }
   ],
   "source": [
    "from pandas_datareader import data, web  # <- use this"
   ]
  },
  {
   "cell_type": "code",
   "execution_count": 11,
   "id": "61f0eb24",
   "metadata": {},
   "outputs": [
    {
     "ename": "ImportError",
     "evalue": "cannot import name 'web' from 'pandas_datareader' (J:\\python\\Anaconda\\lib\\site-packages\\pandas_datareader\\__init__.py)",
     "output_type": "error",
     "traceback": [
      "\u001b[1;31m---------------------------------------------------------------------------\u001b[0m",
      "\u001b[1;31mImportError\u001b[0m                               Traceback (most recent call last)",
      "\u001b[1;32m~\\AppData\\Local\\Temp\\ipykernel_14232\\2005460118.py\u001b[0m in \u001b[0;36m<module>\u001b[1;34m\u001b[0m\n\u001b[1;32m----> 1\u001b[1;33m \u001b[1;32mfrom\u001b[0m \u001b[0mpandas_datareader\u001b[0m \u001b[1;32mimport\u001b[0m \u001b[0mdata\u001b[0m\u001b[1;33m,\u001b[0m \u001b[0mweb\u001b[0m  \u001b[1;31m# <- use this\u001b[0m\u001b[1;33m\u001b[0m\u001b[1;33m\u001b[0m\u001b[0m\n\u001b[0m",
      "\u001b[1;31mImportError\u001b[0m: cannot import name 'web' from 'pandas_datareader' (J:\\python\\Anaconda\\lib\\site-packages\\pandas_datareader\\__init__.py)"
     ]
    }
   ],
   "source": []
  },
  {
   "cell_type": "markdown",
   "id": "3607d01e",
   "metadata": {},
   "source": [
    "# Excel with python"
   ]
  },
  {
   "cell_type": "code",
   "execution_count": 1,
   "id": "90c3d40b",
   "metadata": {},
   "outputs": [],
   "source": [
    "import pandas as pd"
   ]
  },
  {
   "cell_type": "code",
   "execution_count": 2,
   "id": "ef093c8d",
   "metadata": {},
   "outputs": [
    {
     "name": "stdout",
     "output_type": "stream",
     "text": [
      "Requirement already satisfied: xlrd in j:\\python\\anaconda\\lib\\site-packages (2.0.1)\n"
     ]
    }
   ],
   "source": [
    "!pip install xlrd"
   ]
  },
  {
   "cell_type": "code",
   "execution_count": 3,
   "id": "ee26ecef",
   "metadata": {},
   "outputs": [
    {
     "name": "stdout",
     "output_type": "stream",
     "text": [
      "Requirement already satisfied: openpyxL in j:\\python\\anaconda\\lib\\site-packages (3.0.10)\n",
      "Requirement already satisfied: et_xmlfile in j:\\python\\anaconda\\lib\\site-packages (from openpyxL) (1.1.0)\n"
     ]
    }
   ],
   "source": [
    "!pip install openpyxL"
   ]
  },
  {
   "cell_type": "code",
   "execution_count": 4,
   "id": "a551d107",
   "metadata": {},
   "outputs": [],
   "source": [
    "import pandas as pd\n",
    "import numpy as np\n",
    "from pandas import Series, DataFrame"
   ]
  },
  {
   "cell_type": "code",
   "execution_count": 5,
   "id": "c3de73aa",
   "metadata": {},
   "outputs": [],
   "source": [
    "df_left = DataFrame({\"X\": np.arange(100),\"Y\": np.arange(100)})"
   ]
  },
  {
   "cell_type": "code",
   "execution_count": 6,
   "id": "c7624917",
   "metadata": {},
   "outputs": [
    {
     "data": {
      "text/html": [
       "<div>\n",
       "<style scoped>\n",
       "    .dataframe tbody tr th:only-of-type {\n",
       "        vertical-align: middle;\n",
       "    }\n",
       "\n",
       "    .dataframe tbody tr th {\n",
       "        vertical-align: top;\n",
       "    }\n",
       "\n",
       "    .dataframe thead th {\n",
       "        text-align: right;\n",
       "    }\n",
       "</style>\n",
       "<table border=\"1\" class=\"dataframe\">\n",
       "  <thead>\n",
       "    <tr style=\"text-align: right;\">\n",
       "      <th></th>\n",
       "      <th>Key</th>\n",
       "      <th>Data</th>\n",
       "    </tr>\n",
       "  </thead>\n",
       "  <tbody>\n",
       "    <tr>\n",
       "      <th>0</th>\n",
       "      <td>x</td>\n",
       "      <td>0</td>\n",
       "    </tr>\n",
       "    <tr>\n",
       "      <th>1</th>\n",
       "      <td>y</td>\n",
       "      <td>1</td>\n",
       "    </tr>\n",
       "    <tr>\n",
       "      <th>2</th>\n",
       "      <td>z</td>\n",
       "      <td>2</td>\n",
       "    </tr>\n",
       "    <tr>\n",
       "      <th>3</th>\n",
       "      <td>x</td>\n",
       "      <td>3</td>\n",
       "    </tr>\n",
       "    <tr>\n",
       "      <th>4</th>\n",
       "      <td>y</td>\n",
       "      <td>4</td>\n",
       "    </tr>\n",
       "  </tbody>\n",
       "</table>\n",
       "</div>"
      ],
      "text/plain": [
       "  Key  Data\n",
       "0   x     0\n",
       "1   y     1\n",
       "2   z     2\n",
       "3   x     3\n",
       "4   y     4"
      ]
     },
     "execution_count": 6,
     "metadata": {},
     "output_type": "execute_result"
    }
   ],
   "source": [
    "df_left"
   ]
  },
  {
   "cell_type": "code",
   "execution_count": 8,
   "id": "9bc1793a",
   "metadata": {},
   "outputs": [],
   "source": [
    "df_right = DataFrame({\"Group_data\": [10, 20]}, index =[\"X\", \"Y\"])"
   ]
  },
  {
   "cell_type": "code",
   "execution_count": 9,
   "id": "79987c4a",
   "metadata": {},
   "outputs": [
    {
     "data": {
      "text/html": [
       "<div>\n",
       "<style scoped>\n",
       "    .dataframe tbody tr th:only-of-type {\n",
       "        vertical-align: middle;\n",
       "    }\n",
       "\n",
       "    .dataframe tbody tr th {\n",
       "        vertical-align: top;\n",
       "    }\n",
       "\n",
       "    .dataframe thead th {\n",
       "        text-align: right;\n",
       "    }\n",
       "</style>\n",
       "<table border=\"1\" class=\"dataframe\">\n",
       "  <thead>\n",
       "    <tr style=\"text-align: right;\">\n",
       "      <th></th>\n",
       "      <th>Group_data</th>\n",
       "    </tr>\n",
       "  </thead>\n",
       "  <tbody>\n",
       "    <tr>\n",
       "      <th>X</th>\n",
       "      <td>10</td>\n",
       "    </tr>\n",
       "    <tr>\n",
       "      <th>Y</th>\n",
       "      <td>20</td>\n",
       "    </tr>\n",
       "  </tbody>\n",
       "</table>\n",
       "</div>"
      ],
      "text/plain": [
       "   Group_data\n",
       "X          10\n",
       "Y          20"
      ]
     },
     "execution_count": 9,
     "metadata": {},
     "output_type": "execute_result"
    }
   ],
   "source": [
    "df_right"
   ]
  },
  {
   "cell_type": "code",
   "execution_count": 12,
   "id": "91cf9dbf",
   "metadata": {},
   "outputs": [
    {
     "data": {
      "text/plain": [
       "array([[0, 1, 2],\n",
       "       [3, 4, 5],\n",
       "       [6, 7, 8]])"
      ]
     },
     "execution_count": 12,
     "metadata": {},
     "output_type": "execute_result"
    }
   ],
   "source": [
    "arr1 = np.arange(9).reshape(3,3)\n",
    "arr1"
   ]
  },
  {
   "cell_type": "code",
   "execution_count": 13,
   "id": "97304599",
   "metadata": {},
   "outputs": [
    {
     "data": {
      "text/plain": [
       "array([[0, 1, 2, 0, 1, 2],\n",
       "       [3, 4, 5, 3, 4, 5],\n",
       "       [6, 7, 8, 6, 7, 8]])"
      ]
     },
     "execution_count": 13,
     "metadata": {},
     "output_type": "execute_result"
    }
   ],
   "source": [
    "np.concatenate([arr1, arr1], axis=1)"
   ]
  },
  {
   "cell_type": "code",
   "execution_count": 14,
   "id": "f5d1cf9c",
   "metadata": {},
   "outputs": [],
   "source": [
    "ser1 = Series([0,1,2], index=[\"T\", \"U\", \"V\"])\n",
    "ser2 = Series([3,4], index=[\"X\", \"Y\"])"
   ]
  },
  {
   "cell_type": "code",
   "execution_count": 16,
   "id": "9dff1409",
   "metadata": {},
   "outputs": [
    {
     "data": {
      "text/html": [
       "<div>\n",
       "<style scoped>\n",
       "    .dataframe tbody tr th:only-of-type {\n",
       "        vertical-align: middle;\n",
       "    }\n",
       "\n",
       "    .dataframe tbody tr th {\n",
       "        vertical-align: top;\n",
       "    }\n",
       "\n",
       "    .dataframe thead th {\n",
       "        text-align: right;\n",
       "    }\n",
       "</style>\n",
       "<table border=\"1\" class=\"dataframe\">\n",
       "  <thead>\n",
       "    <tr style=\"text-align: right;\">\n",
       "      <th></th>\n",
       "      <th>0</th>\n",
       "      <th>1</th>\n",
       "    </tr>\n",
       "  </thead>\n",
       "  <tbody>\n",
       "    <tr>\n",
       "      <th>T</th>\n",
       "      <td>0.0</td>\n",
       "      <td>NaN</td>\n",
       "    </tr>\n",
       "    <tr>\n",
       "      <th>U</th>\n",
       "      <td>1.0</td>\n",
       "      <td>NaN</td>\n",
       "    </tr>\n",
       "    <tr>\n",
       "      <th>V</th>\n",
       "      <td>2.0</td>\n",
       "      <td>NaN</td>\n",
       "    </tr>\n",
       "    <tr>\n",
       "      <th>X</th>\n",
       "      <td>NaN</td>\n",
       "      <td>3.0</td>\n",
       "    </tr>\n",
       "    <tr>\n",
       "      <th>Y</th>\n",
       "      <td>NaN</td>\n",
       "      <td>4.0</td>\n",
       "    </tr>\n",
       "  </tbody>\n",
       "</table>\n",
       "</div>"
      ],
      "text/plain": [
       "     0    1\n",
       "T  0.0  NaN\n",
       "U  1.0  NaN\n",
       "V  2.0  NaN\n",
       "X  NaN  3.0\n",
       "Y  NaN  4.0"
      ]
     },
     "execution_count": 16,
     "metadata": {},
     "output_type": "execute_result"
    }
   ],
   "source": [
    "pd.concat([ser1, ser2], axis=1)"
   ]
  },
  {
   "cell_type": "code",
   "execution_count": 17,
   "id": "70a38e7d",
   "metadata": {},
   "outputs": [
    {
     "data": {
      "text/plain": [
       "cat  T    0\n",
       "     U    1\n",
       "     V    2\n",
       "dog  X    3\n",
       "     Y    4\n",
       "dtype: int64"
      ]
     },
     "execution_count": 17,
     "metadata": {},
     "output_type": "execute_result"
    }
   ],
   "source": [
    "pd.concat([ser1, ser2], keys=[\"cat\", \"dog\"])"
   ]
  },
  {
   "cell_type": "code",
   "execution_count": 18,
   "id": "4a2c98e2",
   "metadata": {},
   "outputs": [],
   "source": [
    "dframe1 = DataFrame(np.random.randn(4, 3), columns = [\"X\",\"Y\", \"Z\"])\n",
    "dframe2 = DataFrame(np.random.randn(3, 3), columns = [\"Y\",\"Q\", \"X\"])"
   ]
  },
  {
   "cell_type": "code",
   "execution_count": 19,
   "id": "f2eeb09f",
   "metadata": {},
   "outputs": [
    {
     "data": {
      "text/html": [
       "<div>\n",
       "<style scoped>\n",
       "    .dataframe tbody tr th:only-of-type {\n",
       "        vertical-align: middle;\n",
       "    }\n",
       "\n",
       "    .dataframe tbody tr th {\n",
       "        vertical-align: top;\n",
       "    }\n",
       "\n",
       "    .dataframe thead th {\n",
       "        text-align: right;\n",
       "    }\n",
       "</style>\n",
       "<table border=\"1\" class=\"dataframe\">\n",
       "  <thead>\n",
       "    <tr style=\"text-align: right;\">\n",
       "      <th></th>\n",
       "      <th>X</th>\n",
       "      <th>Y</th>\n",
       "      <th>Z</th>\n",
       "    </tr>\n",
       "  </thead>\n",
       "  <tbody>\n",
       "    <tr>\n",
       "      <th>0</th>\n",
       "      <td>0.252938</td>\n",
       "      <td>-0.212307</td>\n",
       "      <td>-1.133330</td>\n",
       "    </tr>\n",
       "    <tr>\n",
       "      <th>1</th>\n",
       "      <td>-0.995748</td>\n",
       "      <td>-1.048365</td>\n",
       "      <td>0.510268</td>\n",
       "    </tr>\n",
       "    <tr>\n",
       "      <th>2</th>\n",
       "      <td>2.027777</td>\n",
       "      <td>-0.878101</td>\n",
       "      <td>-1.142465</td>\n",
       "    </tr>\n",
       "    <tr>\n",
       "      <th>3</th>\n",
       "      <td>1.183862</td>\n",
       "      <td>-0.843222</td>\n",
       "      <td>-0.046816</td>\n",
       "    </tr>\n",
       "  </tbody>\n",
       "</table>\n",
       "</div>"
      ],
      "text/plain": [
       "          X         Y         Z\n",
       "0  0.252938 -0.212307 -1.133330\n",
       "1 -0.995748 -1.048365  0.510268\n",
       "2  2.027777 -0.878101 -1.142465\n",
       "3  1.183862 -0.843222 -0.046816"
      ]
     },
     "execution_count": 19,
     "metadata": {},
     "output_type": "execute_result"
    }
   ],
   "source": [
    "dframe1"
   ]
  },
  {
   "cell_type": "code",
   "execution_count": 20,
   "id": "609d15d0",
   "metadata": {},
   "outputs": [
    {
     "data": {
      "text/html": [
       "<div>\n",
       "<style scoped>\n",
       "    .dataframe tbody tr th:only-of-type {\n",
       "        vertical-align: middle;\n",
       "    }\n",
       "\n",
       "    .dataframe tbody tr th {\n",
       "        vertical-align: top;\n",
       "    }\n",
       "\n",
       "    .dataframe thead th {\n",
       "        text-align: right;\n",
       "    }\n",
       "</style>\n",
       "<table border=\"1\" class=\"dataframe\">\n",
       "  <thead>\n",
       "    <tr style=\"text-align: right;\">\n",
       "      <th></th>\n",
       "      <th>Y</th>\n",
       "      <th>Q</th>\n",
       "      <th>X</th>\n",
       "    </tr>\n",
       "  </thead>\n",
       "  <tbody>\n",
       "    <tr>\n",
       "      <th>0</th>\n",
       "      <td>1.340987</td>\n",
       "      <td>-0.423420</td>\n",
       "      <td>1.590723</td>\n",
       "    </tr>\n",
       "    <tr>\n",
       "      <th>1</th>\n",
       "      <td>1.047901</td>\n",
       "      <td>0.911004</td>\n",
       "      <td>0.744734</td>\n",
       "    </tr>\n",
       "    <tr>\n",
       "      <th>2</th>\n",
       "      <td>0.109583</td>\n",
       "      <td>-0.485163</td>\n",
       "      <td>-0.229853</td>\n",
       "    </tr>\n",
       "  </tbody>\n",
       "</table>\n",
       "</div>"
      ],
      "text/plain": [
       "          Y         Q         X\n",
       "0  1.340987 -0.423420  1.590723\n",
       "1  1.047901  0.911004  0.744734\n",
       "2  0.109583 -0.485163 -0.229853"
      ]
     },
     "execution_count": 20,
     "metadata": {},
     "output_type": "execute_result"
    }
   ],
   "source": [
    "dframe2"
   ]
  },
  {
   "cell_type": "code",
   "execution_count": 22,
   "id": "bfa9b108",
   "metadata": {},
   "outputs": [],
   "source": [
    "dframe3= pd.concat([dframe1, dframe2])"
   ]
  },
  {
   "cell_type": "code",
   "execution_count": 23,
   "id": "381f5c91",
   "metadata": {},
   "outputs": [
    {
     "data": {
      "text/html": [
       "<div>\n",
       "<style scoped>\n",
       "    .dataframe tbody tr th:only-of-type {\n",
       "        vertical-align: middle;\n",
       "    }\n",
       "\n",
       "    .dataframe tbody tr th {\n",
       "        vertical-align: top;\n",
       "    }\n",
       "\n",
       "    .dataframe thead th {\n",
       "        text-align: right;\n",
       "    }\n",
       "</style>\n",
       "<table border=\"1\" class=\"dataframe\">\n",
       "  <thead>\n",
       "    <tr style=\"text-align: right;\">\n",
       "      <th></th>\n",
       "      <th>X</th>\n",
       "      <th>Y</th>\n",
       "      <th>Z</th>\n",
       "      <th>Q</th>\n",
       "    </tr>\n",
       "  </thead>\n",
       "  <tbody>\n",
       "    <tr>\n",
       "      <th>0</th>\n",
       "      <td>0.252938</td>\n",
       "      <td>-0.212307</td>\n",
       "      <td>-1.133330</td>\n",
       "      <td>NaN</td>\n",
       "    </tr>\n",
       "    <tr>\n",
       "      <th>1</th>\n",
       "      <td>-0.995748</td>\n",
       "      <td>-1.048365</td>\n",
       "      <td>0.510268</td>\n",
       "      <td>NaN</td>\n",
       "    </tr>\n",
       "    <tr>\n",
       "      <th>2</th>\n",
       "      <td>2.027777</td>\n",
       "      <td>-0.878101</td>\n",
       "      <td>-1.142465</td>\n",
       "      <td>NaN</td>\n",
       "    </tr>\n",
       "    <tr>\n",
       "      <th>3</th>\n",
       "      <td>1.183862</td>\n",
       "      <td>-0.843222</td>\n",
       "      <td>-0.046816</td>\n",
       "      <td>NaN</td>\n",
       "    </tr>\n",
       "    <tr>\n",
       "      <th>0</th>\n",
       "      <td>1.590723</td>\n",
       "      <td>1.340987</td>\n",
       "      <td>NaN</td>\n",
       "      <td>-0.423420</td>\n",
       "    </tr>\n",
       "    <tr>\n",
       "      <th>1</th>\n",
       "      <td>0.744734</td>\n",
       "      <td>1.047901</td>\n",
       "      <td>NaN</td>\n",
       "      <td>0.911004</td>\n",
       "    </tr>\n",
       "    <tr>\n",
       "      <th>2</th>\n",
       "      <td>-0.229853</td>\n",
       "      <td>0.109583</td>\n",
       "      <td>NaN</td>\n",
       "      <td>-0.485163</td>\n",
       "    </tr>\n",
       "  </tbody>\n",
       "</table>\n",
       "</div>"
      ],
      "text/plain": [
       "          X         Y         Z         Q\n",
       "0  0.252938 -0.212307 -1.133330       NaN\n",
       "1 -0.995748 -1.048365  0.510268       NaN\n",
       "2  2.027777 -0.878101 -1.142465       NaN\n",
       "3  1.183862 -0.843222 -0.046816       NaN\n",
       "0  1.590723  1.340987       NaN -0.423420\n",
       "1  0.744734  1.047901       NaN  0.911004\n",
       "2 -0.229853  0.109583       NaN -0.485163"
      ]
     },
     "execution_count": 23,
     "metadata": {},
     "output_type": "execute_result"
    }
   ],
   "source": [
    "dframe3"
   ]
  },
  {
   "cell_type": "code",
   "execution_count": 25,
   "id": "a90cac91",
   "metadata": {},
   "outputs": [],
   "source": [
    "dframe4 =pd.concat([dframe1, dframe2], ignore_index = True)"
   ]
  },
  {
   "cell_type": "code",
   "execution_count": 26,
   "id": "f0f425a8",
   "metadata": {},
   "outputs": [
    {
     "data": {
      "text/html": [
       "<div>\n",
       "<style scoped>\n",
       "    .dataframe tbody tr th:only-of-type {\n",
       "        vertical-align: middle;\n",
       "    }\n",
       "\n",
       "    .dataframe tbody tr th {\n",
       "        vertical-align: top;\n",
       "    }\n",
       "\n",
       "    .dataframe thead th {\n",
       "        text-align: right;\n",
       "    }\n",
       "</style>\n",
       "<table border=\"1\" class=\"dataframe\">\n",
       "  <thead>\n",
       "    <tr style=\"text-align: right;\">\n",
       "      <th></th>\n",
       "      <th>X</th>\n",
       "      <th>Y</th>\n",
       "      <th>Z</th>\n",
       "      <th>Q</th>\n",
       "    </tr>\n",
       "  </thead>\n",
       "  <tbody>\n",
       "    <tr>\n",
       "      <th>0</th>\n",
       "      <td>0.252938</td>\n",
       "      <td>-0.212307</td>\n",
       "      <td>-1.133330</td>\n",
       "      <td>NaN</td>\n",
       "    </tr>\n",
       "    <tr>\n",
       "      <th>1</th>\n",
       "      <td>-0.995748</td>\n",
       "      <td>-1.048365</td>\n",
       "      <td>0.510268</td>\n",
       "      <td>NaN</td>\n",
       "    </tr>\n",
       "    <tr>\n",
       "      <th>2</th>\n",
       "      <td>2.027777</td>\n",
       "      <td>-0.878101</td>\n",
       "      <td>-1.142465</td>\n",
       "      <td>NaN</td>\n",
       "    </tr>\n",
       "    <tr>\n",
       "      <th>3</th>\n",
       "      <td>1.183862</td>\n",
       "      <td>-0.843222</td>\n",
       "      <td>-0.046816</td>\n",
       "      <td>NaN</td>\n",
       "    </tr>\n",
       "    <tr>\n",
       "      <th>4</th>\n",
       "      <td>1.590723</td>\n",
       "      <td>1.340987</td>\n",
       "      <td>NaN</td>\n",
       "      <td>-0.423420</td>\n",
       "    </tr>\n",
       "    <tr>\n",
       "      <th>5</th>\n",
       "      <td>0.744734</td>\n",
       "      <td>1.047901</td>\n",
       "      <td>NaN</td>\n",
       "      <td>0.911004</td>\n",
       "    </tr>\n",
       "    <tr>\n",
       "      <th>6</th>\n",
       "      <td>-0.229853</td>\n",
       "      <td>0.109583</td>\n",
       "      <td>NaN</td>\n",
       "      <td>-0.485163</td>\n",
       "    </tr>\n",
       "  </tbody>\n",
       "</table>\n",
       "</div>"
      ],
      "text/plain": [
       "          X         Y         Z         Q\n",
       "0  0.252938 -0.212307 -1.133330       NaN\n",
       "1 -0.995748 -1.048365  0.510268       NaN\n",
       "2  2.027777 -0.878101 -1.142465       NaN\n",
       "3  1.183862 -0.843222 -0.046816       NaN\n",
       "4  1.590723  1.340987       NaN -0.423420\n",
       "5  0.744734  1.047901       NaN  0.911004\n",
       "6 -0.229853  0.109583       NaN -0.485163"
      ]
     },
     "execution_count": 26,
     "metadata": {},
     "output_type": "execute_result"
    }
   ],
   "source": [
    "dframe4"
   ]
  },
  {
   "cell_type": "code",
   "execution_count": 31,
   "id": "e4ed918f",
   "metadata": {},
   "outputs": [],
   "source": [
    "import pandas.util.testing as tm; tm.N = 3"
   ]
  },
  {
   "cell_type": "code",
   "execution_count": 33,
   "id": "005dae21",
   "metadata": {},
   "outputs": [
    {
     "ename": "AttributeError",
     "evalue": "'DataFrame' object has no attribute 'value'",
     "output_type": "error",
     "traceback": [
      "\u001b[1;31m---------------------------------------------------------------------------\u001b[0m",
      "\u001b[1;31mAttributeError\u001b[0m                            Traceback (most recent call last)",
      "\u001b[1;32m~\\AppData\\Local\\Temp\\ipykernel_5328\\2957656045.py\u001b[0m in \u001b[0;36m<module>\u001b[1;34m\u001b[0m\n\u001b[0;32m      7\u001b[0m     }\n\u001b[0;32m      8\u001b[0m     \u001b[1;32mreturn\u001b[0m \u001b[0mDataFrame\u001b[0m\u001b[1;33m(\u001b[0m\u001b[0mdata\u001b[0m\u001b[1;33m,\u001b[0m \u001b[0mcolumns\u001b[0m\u001b[1;33m=\u001b[0m \u001b[1;33m[\u001b[0m\u001b[1;34m\"date\"\u001b[0m\u001b[1;33m,\u001b[0m \u001b[1;34m\"variable\"\u001b[0m\u001b[1;33m,\u001b[0m \u001b[1;34m\"value\"\u001b[0m\u001b[1;33m]\u001b[0m\u001b[1;33m)\u001b[0m\u001b[1;33m\u001b[0m\u001b[1;33m\u001b[0m\u001b[0m\n\u001b[1;32m----> 9\u001b[1;33m \u001b[0mdframe\u001b[0m \u001b[1;33m=\u001b[0m \u001b[0munpivot\u001b[0m\u001b[1;33m(\u001b[0m\u001b[0mtm\u001b[0m\u001b[1;33m.\u001b[0m\u001b[0mmakeTimeDataFrame\u001b[0m\u001b[1;33m(\u001b[0m\u001b[1;33m)\u001b[0m\u001b[1;33m)\u001b[0m\u001b[1;33m\u001b[0m\u001b[1;33m\u001b[0m\u001b[0m\n\u001b[0m",
      "\u001b[1;32m~\\AppData\\Local\\Temp\\ipykernel_5328\\2957656045.py\u001b[0m in \u001b[0;36munpivot\u001b[1;34m(frame)\u001b[0m\n\u001b[0;32m      2\u001b[0m     \u001b[0mN\u001b[0m\u001b[1;33m,\u001b[0m \u001b[0mK\u001b[0m \u001b[1;33m=\u001b[0m \u001b[0mframe\u001b[0m\u001b[1;33m.\u001b[0m\u001b[0mshape\u001b[0m\u001b[1;33m\u001b[0m\u001b[1;33m\u001b[0m\u001b[0m\n\u001b[0;32m      3\u001b[0m     data = {\n\u001b[1;32m----> 4\u001b[1;33m         \u001b[1;34m\"value\"\u001b[0m \u001b[1;33m:\u001b[0m \u001b[0mframe\u001b[0m\u001b[1;33m.\u001b[0m\u001b[0mvalue\u001b[0m\u001b[1;33m.\u001b[0m\u001b[0mravel\u001b[0m\u001b[1;33m(\u001b[0m\u001b[1;34m\"F\"\u001b[0m\u001b[1;33m)\u001b[0m\u001b[1;33m,\u001b[0m\u001b[1;33m\u001b[0m\u001b[1;33m\u001b[0m\u001b[0m\n\u001b[0m\u001b[0;32m      5\u001b[0m         \u001b[1;34m\"variable\"\u001b[0m \u001b[1;33m:\u001b[0m \u001b[0mnp\u001b[0m\u001b[1;33m.\u001b[0m\u001b[0masarray\u001b[0m\u001b[1;33m(\u001b[0m\u001b[0mframe\u001b[0m\u001b[1;33m.\u001b[0m\u001b[0mcolums\u001b[0m\u001b[1;33m)\u001b[0m\u001b[1;33m.\u001b[0m\u001b[0mrepeat\u001b[0m\u001b[1;33m(\u001b[0m\u001b[0mN\u001b[0m\u001b[1;33m)\u001b[0m\u001b[1;33m,\u001b[0m\u001b[1;33m\u001b[0m\u001b[1;33m\u001b[0m\u001b[0m\n\u001b[0;32m      6\u001b[0m         \u001b[1;34m\"date\"\u001b[0m \u001b[1;33m:\u001b[0m \u001b[0mnp\u001b[0m\u001b[1;33m.\u001b[0m\u001b[0mtitle\u001b[0m\u001b[1;33m(\u001b[0m\u001b[0mnp\u001b[0m\u001b[1;33m.\u001b[0m\u001b[0masarray\u001b[0m\u001b[1;33m(\u001b[0m\u001b[0mframe\u001b[0m\u001b[1;33m.\u001b[0m\u001b[0mindex\u001b[0m\u001b[1;33m)\u001b[0m\u001b[1;33m,\u001b[0m \u001b[0mK\u001b[0m\u001b[1;33m)\u001b[0m\u001b[1;33m\u001b[0m\u001b[1;33m\u001b[0m\u001b[0m\n",
      "\u001b[1;32mJ:\\python\\Anaconda\\lib\\site-packages\\pandas\\core\\generic.py\u001b[0m in \u001b[0;36m__getattr__\u001b[1;34m(self, name)\u001b[0m\n\u001b[0;32m   5573\u001b[0m         ):\n\u001b[0;32m   5574\u001b[0m             \u001b[1;32mreturn\u001b[0m \u001b[0mself\u001b[0m\u001b[1;33m[\u001b[0m\u001b[0mname\u001b[0m\u001b[1;33m]\u001b[0m\u001b[1;33m\u001b[0m\u001b[1;33m\u001b[0m\u001b[0m\n\u001b[1;32m-> 5575\u001b[1;33m         \u001b[1;32mreturn\u001b[0m \u001b[0mobject\u001b[0m\u001b[1;33m.\u001b[0m\u001b[0m__getattribute__\u001b[0m\u001b[1;33m(\u001b[0m\u001b[0mself\u001b[0m\u001b[1;33m,\u001b[0m \u001b[0mname\u001b[0m\u001b[1;33m)\u001b[0m\u001b[1;33m\u001b[0m\u001b[1;33m\u001b[0m\u001b[0m\n\u001b[0m\u001b[0;32m   5576\u001b[0m \u001b[1;33m\u001b[0m\u001b[0m\n\u001b[0;32m   5577\u001b[0m     \u001b[1;32mdef\u001b[0m \u001b[0m__setattr__\u001b[0m\u001b[1;33m(\u001b[0m\u001b[0mself\u001b[0m\u001b[1;33m,\u001b[0m \u001b[0mname\u001b[0m\u001b[1;33m:\u001b[0m \u001b[0mstr\u001b[0m\u001b[1;33m,\u001b[0m \u001b[0mvalue\u001b[0m\u001b[1;33m)\u001b[0m \u001b[1;33m->\u001b[0m \u001b[1;32mNone\u001b[0m\u001b[1;33m:\u001b[0m\u001b[1;33m\u001b[0m\u001b[1;33m\u001b[0m\u001b[0m\n",
      "\u001b[1;31mAttributeError\u001b[0m: 'DataFrame' object has no attribute 'value'"
     ]
    }
   ],
   "source": [
    "def unpivot(frame):\n",
    "    N, K = frame.shape\n",
    "    data = {\n",
    "        \"value\" : frame.value.ravel(\"F\"),\n",
    "        \"variable\" : np.asarray(frame.colums).repeat(N),\n",
    "        \"date\" : np.title(np.asarray(frame.index), K)\n",
    "    }\n",
    "    return DataFrame(data, columns= [\"date\", \"variable\", \"value\"])\n",
    "dframe = unpivot(tm.makeTimeDataFrame())"
   ]
  },
  {
   "cell_type": "code",
   "execution_count": 29,
   "id": "6ccb546c",
   "metadata": {},
   "outputs": [
    {
     "ename": "AttributeError",
     "evalue": "'DataFrame' object has no attribute 'value'",
     "output_type": "error",
     "traceback": [
      "\u001b[1;31m---------------------------------------------------------------------------\u001b[0m",
      "\u001b[1;31mAttributeError\u001b[0m                            Traceback (most recent call last)",
      "\u001b[1;32m~\\AppData\\Local\\Temp\\ipykernel_5328\\1179675019.py\u001b[0m in \u001b[0;36m<module>\u001b[1;34m\u001b[0m\n\u001b[1;32m----> 1\u001b[1;33m \u001b[0mdframe\u001b[0m \u001b[1;33m=\u001b[0m \u001b[0munpivot\u001b[0m\u001b[1;33m(\u001b[0m\u001b[0mtm\u001b[0m\u001b[1;33m.\u001b[0m\u001b[0mmakeTimeDataFrame\u001b[0m\u001b[1;33m(\u001b[0m\u001b[1;33m)\u001b[0m\u001b[1;33m)\u001b[0m\u001b[1;33m\u001b[0m\u001b[1;33m\u001b[0m\u001b[0m\n\u001b[0m",
      "\u001b[1;32m~\\AppData\\Local\\Temp\\ipykernel_5328\\3657266448.py\u001b[0m in \u001b[0;36munpivot\u001b[1;34m(frame)\u001b[0m\n\u001b[0;32m      2\u001b[0m     \u001b[0mN\u001b[0m\u001b[1;33m,\u001b[0m \u001b[0mK\u001b[0m \u001b[1;33m=\u001b[0m \u001b[0mframe\u001b[0m\u001b[1;33m.\u001b[0m\u001b[0mshape\u001b[0m\u001b[1;33m\u001b[0m\u001b[1;33m\u001b[0m\u001b[0m\n\u001b[0;32m      3\u001b[0m     data = {\n\u001b[1;32m----> 4\u001b[1;33m         \u001b[1;34m\"value\"\u001b[0m \u001b[1;33m:\u001b[0m \u001b[0mframe\u001b[0m\u001b[1;33m.\u001b[0m\u001b[0mvalue\u001b[0m\u001b[1;33m.\u001b[0m\u001b[0mravel\u001b[0m\u001b[1;33m(\u001b[0m\u001b[1;34m\"F\"\u001b[0m\u001b[1;33m)\u001b[0m\u001b[1;33m,\u001b[0m\u001b[1;33m\u001b[0m\u001b[1;33m\u001b[0m\u001b[0m\n\u001b[0m\u001b[0;32m      5\u001b[0m         \u001b[1;34m\"variable\"\u001b[0m \u001b[1;33m:\u001b[0m \u001b[0mnp\u001b[0m\u001b[1;33m.\u001b[0m\u001b[0masarray\u001b[0m\u001b[1;33m(\u001b[0m\u001b[0mframe\u001b[0m\u001b[1;33m.\u001b[0m\u001b[0mcolums\u001b[0m\u001b[1;33m)\u001b[0m\u001b[1;33m.\u001b[0m\u001b[0mrepeat\u001b[0m\u001b[1;33m(\u001b[0m\u001b[0mN\u001b[0m\u001b[1;33m)\u001b[0m\u001b[1;33m,\u001b[0m\u001b[1;33m\u001b[0m\u001b[1;33m\u001b[0m\u001b[0m\n\u001b[0;32m      6\u001b[0m         \u001b[1;34m\"date\"\u001b[0m \u001b[1;33m:\u001b[0m \u001b[0mnp\u001b[0m\u001b[1;33m.\u001b[0m\u001b[0mtitle\u001b[0m\u001b[1;33m(\u001b[0m\u001b[0mnp\u001b[0m\u001b[1;33m.\u001b[0m\u001b[0masarray\u001b[0m\u001b[1;33m(\u001b[0m\u001b[0mframe\u001b[0m\u001b[1;33m.\u001b[0m\u001b[0mindex\u001b[0m\u001b[1;33m)\u001b[0m\u001b[1;33m,\u001b[0m \u001b[0mK\u001b[0m\u001b[1;33m)\u001b[0m\u001b[1;33m\u001b[0m\u001b[1;33m\u001b[0m\u001b[0m\n",
      "\u001b[1;32mJ:\\python\\Anaconda\\lib\\site-packages\\pandas\\core\\generic.py\u001b[0m in \u001b[0;36m__getattr__\u001b[1;34m(self, name)\u001b[0m\n\u001b[0;32m   5573\u001b[0m         ):\n\u001b[0;32m   5574\u001b[0m             \u001b[1;32mreturn\u001b[0m \u001b[0mself\u001b[0m\u001b[1;33m[\u001b[0m\u001b[0mname\u001b[0m\u001b[1;33m]\u001b[0m\u001b[1;33m\u001b[0m\u001b[1;33m\u001b[0m\u001b[0m\n\u001b[1;32m-> 5575\u001b[1;33m         \u001b[1;32mreturn\u001b[0m \u001b[0mobject\u001b[0m\u001b[1;33m.\u001b[0m\u001b[0m__getattribute__\u001b[0m\u001b[1;33m(\u001b[0m\u001b[0mself\u001b[0m\u001b[1;33m,\u001b[0m \u001b[0mname\u001b[0m\u001b[1;33m)\u001b[0m\u001b[1;33m\u001b[0m\u001b[1;33m\u001b[0m\u001b[0m\n\u001b[0m\u001b[0;32m   5576\u001b[0m \u001b[1;33m\u001b[0m\u001b[0m\n\u001b[0;32m   5577\u001b[0m     \u001b[1;32mdef\u001b[0m \u001b[0m__setattr__\u001b[0m\u001b[1;33m(\u001b[0m\u001b[0mself\u001b[0m\u001b[1;33m,\u001b[0m \u001b[0mname\u001b[0m\u001b[1;33m:\u001b[0m \u001b[0mstr\u001b[0m\u001b[1;33m,\u001b[0m \u001b[0mvalue\u001b[0m\u001b[1;33m)\u001b[0m \u001b[1;33m->\u001b[0m \u001b[1;32mNone\u001b[0m\u001b[1;33m:\u001b[0m\u001b[1;33m\u001b[0m\u001b[1;33m\u001b[0m\u001b[0m\n",
      "\u001b[1;31mAttributeError\u001b[0m: 'DataFrame' object has no attribute 'value'"
     ]
    }
   ],
   "source": []
  },
  {
   "cell_type": "code",
   "execution_count": 34,
   "id": "832fb06f",
   "metadata": {},
   "outputs": [
    {
     "data": {
      "text/html": [
       "<div>\n",
       "<style scoped>\n",
       "    .dataframe tbody tr th:only-of-type {\n",
       "        vertical-align: middle;\n",
       "    }\n",
       "\n",
       "    .dataframe tbody tr th {\n",
       "        vertical-align: top;\n",
       "    }\n",
       "\n",
       "    .dataframe thead th {\n",
       "        text-align: right;\n",
       "    }\n",
       "</style>\n",
       "<table border=\"1\" class=\"dataframe\">\n",
       "  <thead>\n",
       "    <tr style=\"text-align: right;\">\n",
       "      <th></th>\n",
       "      <th>X</th>\n",
       "      <th>Y</th>\n",
       "      <th>Z</th>\n",
       "    </tr>\n",
       "  </thead>\n",
       "  <tbody>\n",
       "    <tr>\n",
       "      <th>0</th>\n",
       "      <td>0.252938</td>\n",
       "      <td>-0.212307</td>\n",
       "      <td>-1.133330</td>\n",
       "    </tr>\n",
       "    <tr>\n",
       "      <th>1</th>\n",
       "      <td>-0.995748</td>\n",
       "      <td>-1.048365</td>\n",
       "      <td>0.510268</td>\n",
       "    </tr>\n",
       "    <tr>\n",
       "      <th>2</th>\n",
       "      <td>2.027777</td>\n",
       "      <td>-0.878101</td>\n",
       "      <td>-1.142465</td>\n",
       "    </tr>\n",
       "    <tr>\n",
       "      <th>3</th>\n",
       "      <td>1.183862</td>\n",
       "      <td>-0.843222</td>\n",
       "      <td>-0.046816</td>\n",
       "    </tr>\n",
       "  </tbody>\n",
       "</table>\n",
       "</div>"
      ],
      "text/plain": [
       "          X         Y         Z\n",
       "0  0.252938 -0.212307 -1.133330\n",
       "1 -0.995748 -1.048365  0.510268\n",
       "2  2.027777 -0.878101 -1.142465\n",
       "3  1.183862 -0.843222 -0.046816"
      ]
     },
     "execution_count": 34,
     "metadata": {},
     "output_type": "execute_result"
    }
   ],
   "source": [
    "dframe1"
   ]
  },
  {
   "cell_type": "code",
   "execution_count": 35,
   "id": "a8b61946",
   "metadata": {},
   "outputs": [
    {
     "data": {
      "text/html": [
       "<div>\n",
       "<style scoped>\n",
       "    .dataframe tbody tr th:only-of-type {\n",
       "        vertical-align: middle;\n",
       "    }\n",
       "\n",
       "    .dataframe tbody tr th {\n",
       "        vertical-align: top;\n",
       "    }\n",
       "\n",
       "    .dataframe thead th {\n",
       "        text-align: right;\n",
       "    }\n",
       "</style>\n",
       "<table border=\"1\" class=\"dataframe\">\n",
       "  <thead>\n",
       "    <tr style=\"text-align: right;\">\n",
       "      <th></th>\n",
       "      <th>X</th>\n",
       "      <th>Y</th>\n",
       "      <th>Z</th>\n",
       "    </tr>\n",
       "  </thead>\n",
       "  <tbody>\n",
       "    <tr>\n",
       "      <th>count</th>\n",
       "      <td>4.000000</td>\n",
       "      <td>4.000000</td>\n",
       "      <td>4.000000</td>\n",
       "    </tr>\n",
       "    <tr>\n",
       "      <th>mean</th>\n",
       "      <td>0.617207</td>\n",
       "      <td>-0.745499</td>\n",
       "      <td>-0.453086</td>\n",
       "    </tr>\n",
       "    <tr>\n",
       "      <th>std</th>\n",
       "      <td>1.296807</td>\n",
       "      <td>0.366585</td>\n",
       "      <td>0.822816</td>\n",
       "    </tr>\n",
       "    <tr>\n",
       "      <th>min</th>\n",
       "      <td>-0.995748</td>\n",
       "      <td>-1.048365</td>\n",
       "      <td>-1.142465</td>\n",
       "    </tr>\n",
       "    <tr>\n",
       "      <th>25%</th>\n",
       "      <td>-0.059234</td>\n",
       "      <td>-0.920667</td>\n",
       "      <td>-1.135614</td>\n",
       "    </tr>\n",
       "    <tr>\n",
       "      <th>50%</th>\n",
       "      <td>0.718400</td>\n",
       "      <td>-0.860662</td>\n",
       "      <td>-0.590073</td>\n",
       "    </tr>\n",
       "    <tr>\n",
       "      <th>75%</th>\n",
       "      <td>1.394841</td>\n",
       "      <td>-0.685494</td>\n",
       "      <td>0.092455</td>\n",
       "    </tr>\n",
       "    <tr>\n",
       "      <th>max</th>\n",
       "      <td>2.027777</td>\n",
       "      <td>-0.212307</td>\n",
       "      <td>0.510268</td>\n",
       "    </tr>\n",
       "  </tbody>\n",
       "</table>\n",
       "</div>"
      ],
      "text/plain": [
       "              X         Y         Z\n",
       "count  4.000000  4.000000  4.000000\n",
       "mean   0.617207 -0.745499 -0.453086\n",
       "std    1.296807  0.366585  0.822816\n",
       "min   -0.995748 -1.048365 -1.142465\n",
       "25%   -0.059234 -0.920667 -1.135614\n",
       "50%    0.718400 -0.860662 -0.590073\n",
       "75%    1.394841 -0.685494  0.092455\n",
       "max    2.027777 -0.212307  0.510268"
      ]
     },
     "execution_count": 35,
     "metadata": {},
     "output_type": "execute_result"
    }
   ],
   "source": [
    "dframe1.describe()"
   ]
  },
  {
   "cell_type": "code",
   "execution_count": 41,
   "id": "66209265",
   "metadata": {},
   "outputs": [
    {
     "name": "stdout",
     "output_type": "stream",
     "text": [
      "Requirement already satisfied: seaborn in j:\\python\\anaconda\\lib\\site-packages (0.11.2)\n",
      "Requirement already satisfied: pandas>=0.23 in j:\\python\\anaconda\\lib\\site-packages (from seaborn) (1.4.4)\n",
      "Requirement already satisfied: matplotlib>=2.2 in j:\\python\\anaconda\\lib\\site-packages (from seaborn) (3.5.2)\n",
      "Requirement already satisfied: numpy>=1.15 in j:\\python\\anaconda\\lib\\site-packages (from seaborn) (1.21.5)\n",
      "Requirement already satisfied: scipy>=1.0 in j:\\python\\anaconda\\lib\\site-packages (from seaborn) (1.9.1)\n",
      "Requirement already satisfied: fonttools>=4.22.0 in j:\\python\\anaconda\\lib\\site-packages (from matplotlib>=2.2->seaborn) (4.25.0)\n",
      "Requirement already satisfied: python-dateutil>=2.7 in j:\\python\\anaconda\\lib\\site-packages (from matplotlib>=2.2->seaborn) (2.8.2)\n",
      "Requirement already satisfied: cycler>=0.10 in j:\\python\\anaconda\\lib\\site-packages (from matplotlib>=2.2->seaborn) (0.11.0)\n",
      "Requirement already satisfied: pyparsing>=2.2.1 in j:\\python\\anaconda\\lib\\site-packages (from matplotlib>=2.2->seaborn) (3.0.9)\n",
      "Requirement already satisfied: pillow>=6.2.0 in j:\\python\\anaconda\\lib\\site-packages (from matplotlib>=2.2->seaborn) (9.2.0)\n",
      "Requirement already satisfied: packaging>=20.0 in j:\\python\\anaconda\\lib\\site-packages (from matplotlib>=2.2->seaborn) (21.3)\n",
      "Requirement already satisfied: kiwisolver>=1.0.1 in j:\\python\\anaconda\\lib\\site-packages (from matplotlib>=2.2->seaborn) (1.4.2)\n",
      "Requirement already satisfied: pytz>=2020.1 in j:\\python\\anaconda\\lib\\site-packages (from pandas>=0.23->seaborn) (2022.1)\n",
      "Requirement already satisfied: six>=1.5 in j:\\python\\anaconda\\lib\\site-packages (from python-dateutil>=2.7->matplotlib>=2.2->seaborn) (1.16.0)\n"
     ]
    }
   ],
   "source": [
    "!pip install seaborn"
   ]
  },
  {
   "cell_type": "markdown",
   "id": "e8e7db5c",
   "metadata": {},
   "source": [
    "# Histograms"
   ]
  },
  {
   "cell_type": "code",
   "execution_count": 42,
   "id": "81d4a382",
   "metadata": {},
   "outputs": [],
   "source": [
    "import numpy as np\n",
    "import pandas as pd\n",
    "from numpy.random import randn\n",
    "\n",
    "#Stats\n",
    "from scipy import stats\n",
    "\n",
    "#plotting\n",
    "import matplotlib as mpl\n",
    "import matplotlib.pyplot as plt\n",
    "import seaborn as sns"
   ]
  },
  {
   "cell_type": "code",
   "execution_count": 43,
   "id": "b051fdef",
   "metadata": {},
   "outputs": [],
   "source": [
    "%matplotlib inline"
   ]
  },
  {
   "cell_type": "code",
   "execution_count": 44,
   "id": "e941035b",
   "metadata": {},
   "outputs": [],
   "source": [
    "data1 = randn(100)"
   ]
  },
  {
   "cell_type": "code",
   "execution_count": 45,
   "id": "9d0324d2",
   "metadata": {},
   "outputs": [
    {
     "data": {
      "text/plain": [
       "(array([ 2., 10., 15., 15., 22., 18., 12.,  3.,  2.,  1.]),\n",
       " array([-2.56854203, -1.9717074 , -1.37487277, -0.77803814, -0.1812035 ,\n",
       "         0.41563113,  1.01246576,  1.60930039,  2.20613503,  2.80296966,\n",
       "         3.39980429]),\n",
       " <BarContainer object of 10 artists>)"
      ]
     },
     "execution_count": 45,
     "metadata": {},
     "output_type": "execute_result"
    },
    {
     "data": {
      "image/png": "[encoded data removed]",
      "text/plain": [
       "<Figure size 640x480 with 1 Axes>"
      ]
     },
     "metadata": {},
     "output_type": "display_data"
    }
   ],
   "source": [
    "plt.hist(data1)"
   ]
  },
  {
   "cell_type": "code",
   "execution_count": 46,
   "id": "8620201a",
   "metadata": {},
   "outputs": [
    {
     "data": {
      "text/plain": [
       "(array([ 3.,  5.,  9., 14., 14., 11., 14.,  4.,  3.,  3.]),\n",
       " array([-2.21196639, -1.7612834 , -1.31060042, -0.85991743, -0.40923445,\n",
       "         0.04144854,  0.49213152,  0.9428145 ,  1.39349749,  1.84418047,\n",
       "         2.29486346]),\n",
       " <BarContainer object of 10 artists>)"
      ]
     },
     "execution_count": 46,
     "metadata": {},
     "output_type": "execute_result"
    },
    {
     "data": {
      "image/png": "[encoded data removed]",
      "text/plain": [
       "<Figure size 640x480 with 1 Axes>"
      ]
     },
     "metadata": {},
     "output_type": "display_data"
    }
   ],
   "source": [
    "data2 = randn(80)\n",
    "plt.hist(data2, color = 'indianred')"
   ]
  },
  {
   "cell_type": "code",
   "execution_count": 51,
   "id": "43906fca",
   "metadata": {},
   "outputs": [
    {
     "data": {
      "text/plain": [
       "(array([0.11094273, 0.05547136, 0.11094273, 0.16641409, 0.22188546,\n",
       "        0.27735682, 0.16641409, 0.61018501, 0.33282819, 0.44377091,\n",
       "        0.33282819, 0.27735682, 0.49924228, 0.27735682, 0.22188546,\n",
       "        0.        , 0.11094273, 0.05547136, 0.05547136, 0.11094273]),\n",
       " array([-2.21196639, -1.98662489, -1.7612834 , -1.53594191, -1.31060042,\n",
       "        -1.08525892, -0.85991743, -0.63457594, -0.40923445, -0.18389296,\n",
       "         0.04144854,  0.26679003,  0.49213152,  0.71747301,  0.9428145 ,\n",
       "         1.168156  ,  1.39349749,  1.61883898,  1.84418047,  2.06952197,\n",
       "         2.29486346]),\n",
       " <BarContainer object of 20 artists>)"
      ]
     },
     "execution_count": 51,
     "metadata": {},
     "output_type": "execute_result"
    },
    {
     "data": {
      "image/png": "[encoded data removed]",
      "text/plain": [
       "<Figure size 640x480 with 1 Axes>"
      ]
     },
     "metadata": {},
     "output_type": "display_data"
    }
   ],
   "source": [
    "plt.hist(data1, density=True, color='indianred', alpha=.5, bins=20)\n",
    "plt.hist(data2, density=True, alpha=0.5, bins=20)"
   ]
  },
  {
   "cell_type": "code",
   "execution_count": 52,
   "id": "a05cd7a4",
   "metadata": {},
   "outputs": [],
   "source": [
    "data1 = randn(1000)\n",
    "data2 = randn(1000)"
   ]
  },
  {
   "cell_type": "code",
   "execution_count": 54,
   "id": "f84f8054",
   "metadata": {},
   "outputs": [
    {
     "name": "stderr",
     "output_type": "stream",
     "text": [
      "J:\\python\\Anaconda\\lib\\site-packages\\seaborn\\_decorators.py:36: FutureWarning: Pass the following variables as keyword args: x, y. From version 0.12, the only valid positional argument will be `data`, and passing other arguments without an explicit keyword will result in an error or misinterpretation.\n",
      "  warnings.warn(\n"
     ]
    },
    {
     "data": {
      "text/plain": [
       "<seaborn.axisgrid.JointGrid at 0x20ed2b5cd00>"
      ]
     },
     "execution_count": 54,
     "metadata": {},
     "output_type": "execute_result"
    },
    {
     "data": {
      "image/png": "[encoded data removed]",
      "text/plain": [
       "<Figure size 600x600 with 3 Axes>"
      ]
     },
     "metadata": {},
     "output_type": "display_data"
    }
   ],
   "source": [
    "sns.jointplot(data1, data2)"
   ]
  },
  {
   "cell_type": "code",
   "execution_count": 55,
   "id": "afa67288",
   "metadata": {},
   "outputs": [
    {
     "name": "stderr",
     "output_type": "stream",
     "text": [
      "J:\\python\\Anaconda\\lib\\site-packages\\seaborn\\_decorators.py:36: FutureWarning: Pass the following variables as keyword args: x, y. From version 0.12, the only valid positional argument will be `data`, and passing other arguments without an explicit keyword will result in an error or misinterpretation.\n",
      "  warnings.warn(\n"
     ]
    },
    {
     "data": {
      "text/plain": [
       "<seaborn.axisgrid.JointGrid at 0x20ed2c659a0>"
      ]
     },
     "execution_count": 55,
     "metadata": {},
     "output_type": "execute_result"
    },
    {
     "data": {
      "image/png": "[encoded data removed]",
      "text/plain": [
       "<Figure size 600x600 with 3 Axes>"
      ]
     },
     "metadata": {},
     "output_type": "display_data"
    }
   ],
   "source": [
    "#hex bins\n",
    "sns.jointplot(data1, data2, kind=\"hex\")"
   ]
  },
  {
   "cell_type": "markdown",
   "id": "71928c14",
   "metadata": {},
   "source": [
    "# Kernal Density estimation plot"
   ]
  },
  {
   "cell_type": "code",
   "execution_count": 57,
   "id": "e58843d9",
   "metadata": {},
   "outputs": [],
   "source": [
    "dataset=randn(25)"
   ]
  },
  {
   "cell_type": "code",
   "execution_count": 60,
   "id": "f559520c",
   "metadata": {},
   "outputs": [
    {
     "data": {
      "text/plain": [
       "(0.0, 1.0)"
      ]
     },
     "execution_count": 60,
     "metadata": {},
     "output_type": "execute_result"
    },
    {
     "data": {
      "image/png": "[encoded data removed]",
      "text/plain": [
       "<Figure size 640x480 with 1 Axes>"
      ]
     },
     "metadata": {},
     "output_type": "display_data"
    }
   ],
   "source": [
    "sns.rugplot(dataset)\n",
    "plt.ylim(0,1)"
   ]
  },
  {
   "cell_type": "code",
   "execution_count": 63,
   "id": "dfd381c7",
   "metadata": {},
   "outputs": [
    {
     "data": {
      "text/plain": [
       "<AxesSubplot:>"
      ]
     },
     "execution_count": 63,
     "metadata": {},
     "output_type": "execute_result"
    },
    {
     "data": {
      "image/png": "[encoded data removed]",
      "text/plain": [
       "<Figure size 640x480 with 1 Axes>"
      ]
     },
     "metadata": {},
     "output_type": "display_data"
    }
   ],
   "source": [
    "plt.hist(dataset, alpha= 0.3)\n",
    "sns.rugplot(dataset)"
   ]
  },
  {
   "cell_type": "code",
   "execution_count": 66,
   "id": "387be368",
   "metadata": {},
   "outputs": [
    {
     "data": {
      "text/plain": [
       "(0.0, 1.0)"
      ]
     },
     "execution_count": 66,
     "metadata": {},
     "output_type": "execute_result"
    },
    {
     "data": {
      "image/png": "[encoded data removed]",
      "text/plain": [
       "<Figure size 640x480 with 1 Axes>"
      ]
     },
     "metadata": {},
     "output_type": "display_data"
    }
   ],
   "source": [
    "sns.rugplot(dataset)\n",
    "\n",
    "#create min and max value\n",
    "x_min = dataset.min() -2\n",
    "x_max = dataset.max() +2\n",
    "\n",
    "x_axis = np.linspace(x_min, x_max, 100)\n",
    "bandwidth = ((4*dataset.std()**5) / (3*len(dataset))) **.2\n",
    "\n",
    "kernel_list = []\n",
    "\n",
    "for data_point in dataset:\n",
    "    #create a karnel for each point and append it to the kernel_list\n",
    "    kernel = stats.norm(data_point, bandwidth).pdf(x_axis)\n",
    "    kernel_list.append(kernel)\n",
    "    \n",
    "    #scale for plotting\n",
    "    kernal = kernel / kernel.max()\n",
    "    kernel = kernel* 0.4\n",
    "    \n",
    "    plt.plot(x_axis, kernel, color=\"grey\", alpha=0.5)\n",
    "plt.ylim(0,1)"
   ]
  },
  {
   "cell_type": "code",
   "execution_count": 67,
   "id": "0365ce6b",
   "metadata": {},
   "outputs": [
    {
     "data": {
      "text/plain": [
       "Text(0.5, 0.98, 'Sum of the basis function')"
      ]
     },
     "execution_count": 67,
     "metadata": {},
     "output_type": "execute_result"
    },
    {
     "data": {
      "image/png": "[encoded data removed]",
      "text/plain": [
       "<Figure size 640x480 with 1 Axes>"
      ]
     },
     "metadata": {},
     "output_type": "display_data"
    }
   ],
   "source": [
    "sum_of_kde = np.sum(kernel_list, axis=0)\n",
    "fig = plt.plot(x_axis, sum_of_kde, color=\"indianred\")\n",
    "sns.rugplot(dataset)\n",
    "plt.yticks([])\n",
    "plt.suptitle(\"Sum of the basis function\")"
   ]
  },
  {
   "cell_type": "code",
   "execution_count": 68,
   "id": "0123a97e",
   "metadata": {},
   "outputs": [
    {
     "data": {
      "text/plain": [
       "<AxesSubplot:ylabel='Density'>"
      ]
     },
     "execution_count": 68,
     "metadata": {},
     "output_type": "execute_result"
    },
    {
     "data": {
      "image/png": "[encoded data removed]",
      "text/plain": [
       "<Figure size 640x480 with 1 Axes>"
      ]
     },
     "metadata": {},
     "output_type": "display_data"
    }
   ],
   "source": [
    "sns.kdeplot(dataset)"
   ]
  },
  {
   "cell_type": "code",
   "execution_count": 21,
   "id": "b064eb7b",
   "metadata": {},
   "outputs": [],
   "source": [
    "import pandas as pd\n",
    "import numpy as np\n",
    "from pandas import Series, DataFrame\n",
    "import matplotlib.pyplot as plt\n",
    "import numpy as np\n",
    "from sklearn.datasets import make_regression\n",
    "from sklearn.linear_model import LinearRegression"
   ]
  },
  {
   "cell_type": "code",
   "execution_count": 22,
   "id": "85ec5193",
   "metadata": {},
   "outputs": [],
   "source": [
    "data = DataFrame(np.random.randn(100, 2), columns = [\"X\",\"Y\"])"
   ]
  },
  {
   "cell_type": "code",
   "execution_count": 23,
   "id": "639ea651",
   "metadata": {},
   "outputs": [
    {
     "data": {
      "text/html": [
       "<div>\n",
       "<style scoped>\n",
       "    .dataframe tbody tr th:only-of-type {\n",
       "        vertical-align: middle;\n",
       "    }\n",
       "\n",
       "    .dataframe tbody tr th {\n",
       "        vertical-align: top;\n",
       "    }\n",
       "\n",
       "    .dataframe thead th {\n",
       "        text-align: right;\n",
       "    }\n",
       "</style>\n",
       "<table border=\"1\" class=\"dataframe\">\n",
       "  <thead>\n",
       "    <tr style=\"text-align: right;\">\n",
       "      <th></th>\n",
       "      <th>X</th>\n",
       "      <th>Y</th>\n",
       "    </tr>\n",
       "  </thead>\n",
       "  <tbody>\n",
       "    <tr>\n",
       "      <th>0</th>\n",
       "      <td>0.725113</td>\n",
       "      <td>1.194370</td>\n",
       "    </tr>\n",
       "    <tr>\n",
       "      <th>1</th>\n",
       "      <td>0.587404</td>\n",
       "      <td>-0.147910</td>\n",
       "    </tr>\n",
       "    <tr>\n",
       "      <th>2</th>\n",
       "      <td>0.303921</td>\n",
       "      <td>-0.749129</td>\n",
       "    </tr>\n",
       "    <tr>\n",
       "      <th>3</th>\n",
       "      <td>-1.108305</td>\n",
       "      <td>1.561336</td>\n",
       "    </tr>\n",
       "    <tr>\n",
       "      <th>4</th>\n",
       "      <td>-0.827281</td>\n",
       "      <td>0.985031</td>\n",
       "    </tr>\n",
       "    <tr>\n",
       "      <th>...</th>\n",
       "      <td>...</td>\n",
       "      <td>...</td>\n",
       "    </tr>\n",
       "    <tr>\n",
       "      <th>95</th>\n",
       "      <td>-0.326829</td>\n",
       "      <td>-0.104280</td>\n",
       "    </tr>\n",
       "    <tr>\n",
       "      <th>96</th>\n",
       "      <td>-1.051164</td>\n",
       "      <td>2.101167</td>\n",
       "    </tr>\n",
       "    <tr>\n",
       "      <th>97</th>\n",
       "      <td>-1.422057</td>\n",
       "      <td>-0.152676</td>\n",
       "    </tr>\n",
       "    <tr>\n",
       "      <th>98</th>\n",
       "      <td>0.496502</td>\n",
       "      <td>-1.924096</td>\n",
       "    </tr>\n",
       "    <tr>\n",
       "      <th>99</th>\n",
       "      <td>0.640676</td>\n",
       "      <td>0.800570</td>\n",
       "    </tr>\n",
       "  </tbody>\n",
       "</table>\n",
       "<p>100 rows × 2 columns</p>\n",
       "</div>"
      ],
      "text/plain": [
       "           X         Y\n",
       "0   0.725113  1.194370\n",
       "1   0.587404 -0.147910\n",
       "2   0.303921 -0.749129\n",
       "3  -1.108305  1.561336\n",
       "4  -0.827281  0.985031\n",
       "..       ...       ...\n",
       "95 -0.326829 -0.104280\n",
       "96 -1.051164  2.101167\n",
       "97 -1.422057 -0.152676\n",
       "98  0.496502 -1.924096\n",
       "99  0.640676  0.800570\n",
       "\n",
       "[100 rows x 2 columns]"
      ]
     },
     "execution_count": 23,
     "metadata": {},
     "output_type": "execute_result"
    }
   ],
   "source": [
    "data"
   ]
  },
  {
   "cell_type": "code",
   "execution_count": 56,
   "id": "bd3ab9a9",
   "metadata": {},
   "outputs": [],
   "source": [
    "X,  Y = make_regression(n_samples= 100, n_features = 1, n_informative = 1,\n",
    "                      n_targets = 1,noise=50, random_state = 83)"
   ]
  },
  {
   "cell_type": "code",
   "execution_count": 57,
   "id": "57478baa",
   "metadata": {},
   "outputs": [
    {
     "data": {
      "image/png": "[encoded data removed]",
      "text/plain": [
       "<Figure size 1000x600 with 1 Axes>"
      ]
     },
     "metadata": {},
     "output_type": "display_data"
    }
   ],
   "source": [
    "plt.figure(figsize=(10,6))\n",
    "plt.scatter(X, Y)\n",
    "plt.show()"
   ]
  },
  {
   "cell_type": "code",
   "execution_count": 58,
   "id": "5e703c62",
   "metadata": {},
   "outputs": [
    {
     "data": {
      "text/plain": [
       "LinearRegression()"
      ]
     },
     "execution_count": 58,
     "metadata": {},
     "output_type": "execute_result"
    }
   ],
   "source": [
    "lreg = LinearRegression()\n",
    "lreg.fit(X,Y)"
   ]
  },
  {
   "cell_type": "code",
   "execution_count": 59,
   "id": "e1f80cfc",
   "metadata": {},
   "outputs": [
    {
     "name": "stdout",
     "output_type": "stream",
     "text": [
      "m= [99.40737746]\n",
      "b= 5.717383622877827\n"
     ]
    }
   ],
   "source": [
    "print(f\"m= {lreg.coef_}\")\n",
    "print(f\"b= {lreg.intercept_}\")\n"
   ]
  },
  {
   "cell_type": "code",
   "execution_count": 60,
   "id": "386b229f",
   "metadata": {},
   "outputs": [
    {
     "data": {
      "image/png": "[encoded data removed]",
      "text/plain": [
       "<Figure size 1000x600 with 1 Axes>"
      ]
     },
     "metadata": {},
     "output_type": "display_data"
    }
   ],
   "source": [
    "m = lreg.coef_\n",
    "b = lreg.intercept_\n",
    "y_pred = lreg.predict(X)\n",
    "# print (Y_pred)\n",
    "plt.figure(figsize=(10, 6))\n",
    "plt.scatter(X,Y)\n",
    "plt.show()"
   ]
  },
  {
   "cell_type": "code",
   "execution_count": 44,
   "id": "bf5625a9",
   "metadata": {},
   "outputs": [
    {
     "name": "stdout",
     "output_type": "stream",
     "text": [
      "[ 2.57309739e+02 -8.41017063e+01  3.62770866e+01  9.12956262e+01\n",
      "  1.98405046e+02 -1.75957002e+02  1.72912784e+01  6.01927247e+01\n",
      "  1.63114895e+02  6.55394164e+01  3.99756705e+01  2.75499868e+01\n",
      " -9.22148340e+00 -1.74980485e+02 -6.12194044e+01 -3.90140474e+01\n",
      " -4.13356045e+01 -7.39580422e+01 -6.29846918e+01  6.11894717e+01\n",
      "  7.99934881e+01 -6.97741507e+01  3.54044416e+01  5.99671259e+01\n",
      " -3.10579998e+01  1.75186118e+02  1.13553907e+02 -1.43812552e+02\n",
      "  1.73471585e+02  1.48009640e+02  3.64535473e+01 -1.90830727e+01\n",
      "  3.81190577e+00 -9.58295648e+01 -1.21500509e+02  3.02096175e+01\n",
      "  5.96966111e+01 -4.02607362e+01  9.82262984e+01 -1.13892363e+02\n",
      "  5.09042356e+01 -4.73903854e+01 -1.38714328e+02  3.81481654e+01\n",
      "  6.01210784e+01  7.51421799e+01 -1.00597262e+02  8.90511291e+01\n",
      " -2.23034715e+02  3.79098296e+01  7.99954427e+01  8.80245313e+01\n",
      " -8.85557526e+01 -6.03262829e+01  5.59847703e+01  1.01273644e+02\n",
      "  2.17268069e+01  3.74652767e+01 -1.01161566e+02  1.19682635e+02\n",
      " -9.04599288e+01  2.99980258e+01  1.49309957e+02  4.09747345e+01\n",
      "  1.64125206e+02  8.50476618e+01  1.60667204e+02 -6.80563072e+00\n",
      "  1.33804585e+02  1.21223415e+01  1.50703275e+02 -1.58687085e+01\n",
      " -2.07250157e+01  1.24122849e+02  1.11326002e+02  1.80993404e+02\n",
      "  4.51342920e+00 -9.02970678e+00 -9.82687004e+00  1.91475968e+02\n",
      " -4.65038924e+00 -8.66725989e+01 -6.96201554e+01  3.42860364e+01\n",
      "  1.97461476e+02 -3.45695195e+01  1.63935804e+02 -6.12674181e+01\n",
      "  1.15925949e+02 -6.92636711e-02 -7.97818966e+01  1.63582617e+02\n",
      "  1.57072656e+02  2.30941163e+02 -5.61314754e+01  1.13298335e+02\n",
      "  4.00267463e+01  1.42117113e+02  5.88269388e+01 -6.63286550e+00]\n"
     ]
    },
    {
     "data": {
      "image/png": "[encoded data removed]",
      "text/plain": [
       "<Figure size 1000x600 with 1 Axes>"
      ]
     },
     "metadata": {},
     "output_type": "display_data"
    }
   ],
   "source": [
    "m = 105.59434113\n",
    "b = 30\n",
    "y_pred_new = (m*X.ravel()+b)\n",
    "print(y_pred_new)\n",
    "\n",
    "plt.figure(figsize=(10,6))\n",
    "plt.scatter(X,Y)\n",
    "plt.plot(X,y_pred,color='purple', label='OLS') # Actual line from sklearn\n",
    "plt.plot(X,y_pred_new, label='m=30')# our models predicted line\n",
    "plt.legend()\n",
    "plt.show()"
   ]
  },
  {
   "cell_type": "code",
   "execution_count": 61,
   "id": "fc290e03",
   "metadata": {},
   "outputs": [
    {
     "data": {
      "image/png": "[encoded data removed]",
      "text/plain": [
       "<Figure size 1000x600 with 1 Axes>"
      ]
     },
     "metadata": {},
     "output_type": "display_data"
    }
   ],
   "source": [
    "lr= 0.01\n",
    "#slope = -2*np.sum(y-m*X-b)\n",
    "slope = -2*np.sum(Y-m*X.ravel()-b)\n",
    "b = b- lr*slope\n",
    "\n",
    "y_pred_newest = m*X+b\n",
    "\n",
    "plt.figure(figsize=(10,6))\n",
    "plt.scatter(X,Y)\n",
    "plt.plot(X,y_pred, color= \"purple\", label= \"OLS\")\n",
    "plt.plot(X,y_pred_new, label= \"b-30\")\n",
    "plt.plot(X,y_pred_newest,  label= f\"OLS{b}\")\n",
    "plt.legend()\n",
    "plt.show()"
   ]
  },
  {
   "cell_type": "code",
   "execution_count": 62,
   "id": "c16fe4e4",
   "metadata": {},
   "outputs": [
    {
     "data": {
      "image/png": "[encoded data removed]",
      "text/plain": [
       "<Figure size 1000x600 with 1 Axes>"
      ]
     },
     "metadata": {},
     "output_type": "display_data"
    }
   ],
   "source": [
    "lr = 0.01\n",
    "slope = -2*np.sum(Y-m*X.ravel()-b)\n",
    "b_last = b - lr*slope\n",
    " \n",
    "y_pred_newest_last = m*X +b\n",
    "\n",
    "\n",
    "plt.figure(figsize=(10,6))\n",
    "plt.scatter(X,Y)\n",
    "plt.plot(X,y_pred,color='purple', label='OLS(sklearn prediction)')\n",
    "plt.plot(X,y_pred_new, label='Initial b=30')\n",
    "plt.plot(X,y_pred_newest, label=f'2nd update {b}')\n",
    "plt.plot(X,y_pred_newest_last, label=f'3rd update {b_last}')\n",
    "plt.legend()\n",
    "plt.show()"
   ]
  },
  {
   "cell_type": "code",
   "execution_count": 63,
   "id": "d2e67ae8",
   "metadata": {},
   "outputs": [],
   "source": [
    "all_b = np.arange(-20, 20, 0.5)\n",
    "loss =[]\n",
    "for b in all_b:\n",
    "    loss.append(np.power(np.sum(Y-m*X.ravel()-b),2))"
   ]
  },
  {
   "cell_type": "code",
   "execution_count": 64,
   "id": "d000dc2b",
   "metadata": {},
   "outputs": [],
   "source": [
    "loss = np.array(loss)"
   ]
  },
  {
   "cell_type": "code",
   "execution_count": 65,
   "id": "772033e5",
   "metadata": {},
   "outputs": [
    {
     "data": {
      "image/png": "[encoded data removed]",
      "text/plain": [
       "<Figure size 1000x600 with 1 Axes>"
      ]
     },
     "metadata": {},
     "output_type": "display_data"
    }
   ],
   "source": [
    "plt.figure(figsize=(10,6))\n",
    "plt.plot(all_b, loss)\n",
    "plt.show()"
   ]
  },
  {
   "cell_type": "code",
   "execution_count": 66,
   "id": "a24d9016",
   "metadata": {},
   "outputs": [
    {
     "data": {
      "image/png": "[encoded data removed]",
      "text/plain": [
       "<Figure size 2000x1000 with 2 Axes>"
      ]
     },
     "metadata": {},
     "output_type": "display_data"
    }
   ],
   "source": [
    "m = lreg.coef_\n",
    "b = 25\n",
    "lrate = 0.01\n",
    "slope = -2*np.sum(Y-m*X.ravel()-b)\n",
    "fig, (ax1, ax2) = plt.subplots(1,2, figsize=(20,10))\n",
    "\n",
    "for i in range(8):\n",
    "    slope = -2*np.sum(Y-m*X.ravel()-b)\n",
    "    b = b - lrate*slope\n",
    "    l = np.power(np.sum(Y-m*X.ravel()-b),2) # loss\n",
    "    y_pred_newest = m*X.ravel()+b\n",
    "    ax1.plot(X,y_pred_newest)\n",
    "    ax1.scatter(X,Y)\n",
    "    ax1.plot(X,lreg.predict(X),color='red', label='OLS') # Actaul line\n",
    "    ax2.plot(all_b,loss)\n",
    "    ax2.scatter(b,l)\n",
    "  \n",
    "plt.show()"
   ]
  },
  {
   "cell_type": "code",
   "execution_count": null,
   "id": "5d7dd221",
   "metadata": {},
   "outputs": [],
   "source": []
  }
 ],
 "metadata": {
  "kernelspec": {
   "display_name": "Python 3 (ipykernel)",
   "language": "python",
   "name": "python3"
  },
  "language_info": {
   "codemirror_mode": {
    "name": "ipython",
    "version": 3
   },
   "file_extension": ".py",
   "mimetype": "text/x-python",
   "name": "python",
   "nbconvert_exporter": "python",
   "pygments_lexer": "ipython3",
   "version": "3.9.13"
  }
 },
 "nbformat": 4,
 "nbformat_minor": 5
}
